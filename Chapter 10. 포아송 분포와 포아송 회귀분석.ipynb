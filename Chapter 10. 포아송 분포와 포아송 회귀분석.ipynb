{
 "cells": [
  {
   "cell_type": "markdown",
   "metadata": {},
   "source": [
    "# Chapter 10. 포아송 분포와 포아송 회귀분석\n",
    "## 포아송 분포"
   ]
  },
  {
   "cell_type": "markdown",
   "metadata": {},
   "source": [
    "<div style=\"text-align:center\">\n",
    "$ P(X = n) = \\frac{{e^{-\\lambda} \\lambda^n}}{{n!}}$\n",
    "</div>\n",
    "\n",
    "여기서,\n",
    "- ( $X$ )는 이산 확률 변수,\n",
    "- ( $n$ )는 관심 있는 사건의 발생 횟수,\n",
    "- ( $lambda$)는 사건이 발생하는 평균 횟수(단위 시간 또는 단위 공간)입니다.\n"
   ]
  },
  {
   "cell_type": "markdown",
   "metadata": {
    "ExecuteTime": {
     "end_time": "2024-03-06T11:23:29.859453Z",
     "start_time": "2024-03-06T11:23:29.827116Z"
    }
   },
   "source": [
    "## 포아송 회귀"
   ]
  },
  {
   "cell_type": "markdown",
   "metadata": {},
   "source": [
    "- 포아송 회귀분석은 종속 변수가 포아송 분포를 따르고 독립 변수와 선형 관계를 가정하는 회귀분석 기법입니다.    \n",
    "- 주로 사건의 발생 횟수를 예측하는데 사용됩니다. 종속 변수가 이산형이고, 예측하려는 값이 양의 정수인 경우에 유용합니다.    \n",
    "- 이러한 분석을 수행할 때는 포아송 분포의 특성을 고려하여 모델을 구성하고 파라미터를 추정합니다."
   ]
  },
  {
   "cell_type": "markdown",
   "metadata": {},
   "source": [
    "### 분석 준비"
   ]
  },
  {
   "cell_type": "code",
   "execution_count": 1,
   "metadata": {
    "ExecuteTime": {
     "end_time": "2024-03-06T11:37:42.547108Z",
     "start_time": "2024-03-06T11:37:41.525319Z"
    },
    "scrolled": true
   },
   "outputs": [],
   "source": [
    "# 숫자 계산에 사용되는 라이브러리\n",
    "import numpy as np\n",
    "import pandas as pd\n",
    "import scipy as sp\n",
    "from scipy import stats\n",
    "\n",
    "# 그래프를 그리는 라이브러리\n",
    "from matplotlib import pyplot as plt\n",
    "import seaborn as sns\n",
    "sns.set()\n",
    "\n",
    "# 통계 모델을 추정하는 라이브러리(경고가 발생할 수 있음)\n",
    "import statsmodels.formula.api as smf\n",
    "import statsmodels.api as sm\n",
    "\n",
    "# 표시 소수점 자릿수 지정\n",
    "%precision 3\n",
    "# 그래프를 Jupyter Notebook 내에 표시하기 위한 설정\n",
    "%matplotlib inline\n"
   ]
  },
  {
   "cell_type": "markdown",
   "metadata": {},
   "source": [
    "## Problem Sample"
   ]
  },
  {
   "cell_type": "markdown",
   "metadata": {},
   "source": [
    "어느 과자 가게에는 하루에 평균 3개의 홈런볼을 판매한다고 한다. 이 때, 하루에 두 개 이상의 홈런볼이 팔릴 확률은?\n",
    "\n",
    "### Solution\n",
    "과자 가게에서 하루에 두 개 이상의 홈런볼이 팔리는 경우는 $2$개 + $3$개 + $3$개 + ⋯ + ∞개의 경우를 모두 고려해야 합니다. 따라서 확률의 총 합은 $1$이라는 것을 감안하여, $1$에서 홈런볼이 $0$개 + $1$개인 경우의 확률을 빼준 값으로 두 개 이상 팔리는 확률을 계산합니다."
   ]
  },
  {
   "cell_type": "markdown",
   "metadata": {
    "ExecuteTime": {
     "end_time": "2024-03-06T11:28:39.216416Z",
     "start_time": "2024-03-06T11:28:39.193357Z"
    }
   },
   "source": [
    "<div style=\"text-align:center\">\n",
    "$ P(n \\geq 2) = 1 - \\sum_{i=0} Pr(n = i) = 1 - (e^{-3} \\times \\frac{3^0}{0!} + e^{-3} \\times \\frac{3^1}{1!}) = 1 - (0.0498 + 0.1494) = 0.8008 $\n",
    "</div>"
   ]
  },
  {
   "cell_type": "code",
   "execution_count": 21,
   "metadata": {
    "ExecuteTime": {
     "end_time": "2024-03-06T11:41:55.149334Z",
     "start_time": "2024-03-06T11:41:55.124025Z"
    }
   },
   "outputs": [
    {
     "name": "stdout",
     "output_type": "stream",
     "text": [
      "    homerunball_number  temperature\n",
      "0                    2            3\n",
      "1                    4            8\n",
      "2                    2            2\n",
      "3                    4            7\n",
      "4                    4            8\n",
      "5                    2            1\n",
      "6                    2            4\n",
      "7                    3            6\n",
      "8                    3            6\n",
      "9                    2            2\n",
      "10                   2            1\n",
      "11                   2            2\n",
      "12                   2            4\n",
      "13                   2            1\n",
      "14                   4            7\n",
      "15                   4            9\n",
      "16                   2            1\n",
      "17                   2            2\n",
      "18                   3            5\n",
      "19                   2            4\n",
      "20                   2            2\n",
      "21                   2            2\n",
      "22                   4            7\n",
      "23                   2            4\n",
      "24                   2            3\n",
      "25                   3            5\n",
      "26                   2            3\n",
      "27                   2            4\n",
      "28                   3            6\n",
      "29                   2            4\n"
     ]
    }
   ],
   "source": [
    "import pandas as pd\n",
    "import numpy as np\n",
    "\n",
    "# 데이터 개수\n",
    "n = 30\n",
    "\n",
    "# 온도 생성 (20부터 30까지의 정수)\n",
    "temperature = np.random.randint(1, 10, size=n)  # 20부터 30까지의 범위에서 랜덤으로 30개의 정수 생성\n",
    "\n",
    "# 홈런볼 개수 생성 (홈런볼 개수가 지수 함수 형태를 가지도록 설정)\n",
    "# 지수 함수 형태: y = a * exp(b * x)\n",
    "a = 2  # 지수 함수의 상수\n",
    "b = 0.1  # 지수 함수의 지수\n",
    "homerunball_number = a * np.exp(b * temperature)  # 지수 함수 형태의 데이터 생성\n",
    "\n",
    "# 데이터프레임 생성\n",
    "data = {'homerunball_number': homerunball_number.astype(int), 'temperature': temperature}\n",
    "df = pd.DataFrame(data)\n",
    "\n",
    "# 데이터프레임 출력\n",
    "print(df)\n"
   ]
  },
  {
   "cell_type": "markdown",
   "metadata": {},
   "source": [
    "### 포아송 회귀"
   ]
  },
  {
   "cell_type": "code",
   "execution_count": 22,
   "metadata": {
    "ExecuteTime": {
     "end_time": "2024-03-06T11:41:55.778866Z",
     "start_time": "2024-03-06T11:41:55.739386Z"
    }
   },
   "outputs": [
    {
     "data": {
      "text/html": [
       "<table class=\"simpletable\">\n",
       "<caption>Generalized Linear Model Regression Results</caption>\n",
       "<tr>\n",
       "  <th>Dep. Variable:</th>   <td>homerunball_number</td> <th>  No. Observations:  </th>  <td>    30</td> \n",
       "</tr>\n",
       "<tr>\n",
       "  <th>Model:</th>                   <td>GLM</td>        <th>  Df Residuals:      </th>  <td>    28</td> \n",
       "</tr>\n",
       "<tr>\n",
       "  <th>Model Family:</th>          <td>Poisson</td>      <th>  Df Model:          </th>  <td>     1</td> \n",
       "</tr>\n",
       "<tr>\n",
       "  <th>Link Function:</th>           <td>Log</td>        <th>  Scale:             </th> <td>  1.0000</td>\n",
       "</tr>\n",
       "<tr>\n",
       "  <th>Method:</th>                 <td>IRLS</td>        <th>  Log-Likelihood:    </th> <td> -42.641</td>\n",
       "</tr>\n",
       "<tr>\n",
       "  <th>Date:</th>             <td>Wed, 06 Mar 2024</td>  <th>  Deviance:          </th> <td>  1.0676</td>\n",
       "</tr>\n",
       "<tr>\n",
       "  <th>Time:</th>                 <td>20:41:55</td>      <th>  Pearson chi2:      </th>  <td>  1.06</td> \n",
       "</tr>\n",
       "<tr>\n",
       "  <th>No. Iterations:</th>           <td>4</td>         <th>  Pseudo R-squ. (CS):</th>  <td>0.1799</td> \n",
       "</tr>\n",
       "<tr>\n",
       "  <th>Covariance Type:</th>      <td>nonrobust</td>     <th>                     </th>     <td> </td>   \n",
       "</tr>\n",
       "</table>\n",
       "<table class=\"simpletable\">\n",
       "<tr>\n",
       "       <td></td>          <th>coef</th>     <th>std err</th>      <th>z</th>      <th>P>|z|</th>  <th>[0.025</th>    <th>0.975]</th>  \n",
       "</tr>\n",
       "<tr>\n",
       "  <th>Intercept</th>   <td>    0.4253</td> <td>    0.253</td> <td>    1.679</td> <td> 0.093</td> <td>   -0.071</td> <td>    0.922</td>\n",
       "</tr>\n",
       "<tr>\n",
       "  <th>temperature</th> <td>    0.1170</td> <td>    0.048</td> <td>    2.458</td> <td> 0.014</td> <td>    0.024</td> <td>    0.210</td>\n",
       "</tr>\n",
       "</table>"
      ],
      "text/latex": [
       "\\begin{center}\n",
       "\\begin{tabular}{lclc}\n",
       "\\toprule\n",
       "\\textbf{Dep. Variable:}   & homerunball\\_number & \\textbf{  No. Observations:  } &       30    \\\\\n",
       "\\textbf{Model:}           &         GLM         & \\textbf{  Df Residuals:      } &       28    \\\\\n",
       "\\textbf{Model Family:}    &       Poisson       & \\textbf{  Df Model:          } &        1    \\\\\n",
       "\\textbf{Link Function:}   &         Log         & \\textbf{  Scale:             } &    1.0000   \\\\\n",
       "\\textbf{Method:}          &         IRLS        & \\textbf{  Log-Likelihood:    } &   -42.641   \\\\\n",
       "\\textbf{Date:}            &   Wed, 06 Mar 2024  & \\textbf{  Deviance:          } &    1.0676   \\\\\n",
       "\\textbf{Time:}            &       20:41:55      & \\textbf{  Pearson chi2:      } &     1.06    \\\\\n",
       "\\textbf{No. Iterations:}  &          4          & \\textbf{  Pseudo R-squ. (CS):} &   0.1799    \\\\\n",
       "\\textbf{Covariance Type:} &      nonrobust      & \\textbf{                     } &             \\\\\n",
       "\\bottomrule\n",
       "\\end{tabular}\n",
       "\\begin{tabular}{lcccccc}\n",
       "                     & \\textbf{coef} & \\textbf{std err} & \\textbf{z} & \\textbf{P$> |$z$|$} & \\textbf{[0.025} & \\textbf{0.975]}  \\\\\n",
       "\\midrule\n",
       "\\textbf{Intercept}   &       0.4253  &        0.253     &     1.679  &         0.093        &       -0.071    &        0.922     \\\\\n",
       "\\textbf{temperature} &       0.1170  &        0.048     &     2.458  &         0.014        &        0.024    &        0.210     \\\\\n",
       "\\bottomrule\n",
       "\\end{tabular}\n",
       "%\\caption{Generalized Linear Model Regression Results}\n",
       "\\end{center}"
      ],
      "text/plain": [
       "<class 'statsmodels.iolib.summary.Summary'>\n",
       "\"\"\"\n",
       "                 Generalized Linear Model Regression Results                  \n",
       "==============================================================================\n",
       "Dep. Variable:     homerunball_number   No. Observations:                   30\n",
       "Model:                            GLM   Df Residuals:                       28\n",
       "Model Family:                 Poisson   Df Model:                            1\n",
       "Link Function:                    Log   Scale:                          1.0000\n",
       "Method:                          IRLS   Log-Likelihood:                -42.641\n",
       "Date:                Wed, 06 Mar 2024   Deviance:                       1.0676\n",
       "Time:                        20:41:55   Pearson chi2:                     1.06\n",
       "No. Iterations:                     4   Pseudo R-squ. (CS):             0.1799\n",
       "Covariance Type:            nonrobust                                         \n",
       "===============================================================================\n",
       "                  coef    std err          z      P>|z|      [0.025      0.975]\n",
       "-------------------------------------------------------------------------------\n",
       "Intercept       0.4253      0.253      1.679      0.093      -0.071       0.922\n",
       "temperature     0.1170      0.048      2.458      0.014       0.024       0.210\n",
       "===============================================================================\n",
       "\"\"\""
      ]
     },
     "execution_count": 22,
     "metadata": {},
     "output_type": "execute_result"
    }
   ],
   "source": [
    "# 모델화\n",
    "mod_pois = smf.glm(\"homerunball_number ~ temperature\", df, \n",
    "                   family=sm.families.Poisson()).fit()\n",
    "mod_pois.summary()"
   ]
  },
  {
   "cell_type": "markdown",
   "metadata": {},
   "source": [
    "\n",
    "### AIC에 의한 모델 선택"
   ]
  },
  {
   "cell_type": "code",
   "execution_count": null,
   "metadata": {},
   "outputs": [],
   "source": []
  },
  {
   "cell_type": "code",
   "execution_count": 23,
   "metadata": {
    "ExecuteTime": {
     "end_time": "2024-03-06T11:41:56.266096Z",
     "start_time": "2024-03-06T11:41:56.242215Z"
    }
   },
   "outputs": [],
   "source": [
    "# Null 모델\n",
    "mod_pois_null = smf.glm(\n",
    "    \"homerunball_number ~ 1\", data=df, \n",
    "    family=sm.families.Poisson()).fit()"
   ]
  },
  {
   "cell_type": "code",
   "execution_count": 24,
   "metadata": {
    "ExecuteTime": {
     "end_time": "2024-03-06T11:41:56.495509Z",
     "start_time": "2024-03-06T11:41:56.471664Z"
    }
   },
   "outputs": [
    {
     "name": "stdout",
     "output_type": "stream",
     "text": [
      "Null 모델    : 93.232\n",
      "변수 포함 모델: 89.282\n"
     ]
    }
   ],
   "source": [
    "# AIC 비교\n",
    "print(\"Null 모델    :\", mod_pois_null.aic.round(3))\n",
    "print(\"변수 포함 모델:\", mod_pois.aic.round(3))"
   ]
  },
  {
   "cell_type": "markdown",
   "metadata": {},
   "source": [
    "### 회귀 곡선 시각화"
   ]
  },
  {
   "cell_type": "code",
   "execution_count": 26,
   "metadata": {
    "ExecuteTime": {
     "end_time": "2024-03-06T11:42:07.933345Z",
     "start_time": "2024-03-06T11:42:07.403962Z"
    }
   },
   "outputs": [
    {
     "data": {
      "text/plain": [
       "[<matplotlib.lines.Line2D at 0x197921187c0>]"
      ]
     },
     "execution_count": 26,
     "metadata": {},
     "output_type": "execute_result"
    },
    {
     "data": {
      "image/png": "[encoded data removed]",
      "text/plain": [
       "<Figure size 360x360 with 1 Axes>"
      ]
     },
     "metadata": {
      "needs_background": "light"
     },
     "output_type": "display_data"
    }
   ],
   "source": [
    "# 그림화\n",
    "\n",
    "# 예측값 생성\n",
    "x_plot = np.arange(0, 10\n",
    "                  )\n",
    "pred = mod_pois.predict(\n",
    "    pd.DataFrame({\"temperature\": x_plot}))\n",
    "\n",
    "# 회귀선을 포함하지 않는 lmplot\n",
    "sns.lmplot(y=\"homerunball_number\", x=\"temperature\", \n",
    "           data=df, fit_reg=False,\n",
    "           scatter_kws={\"color\":\"black\"})\n",
    "# 회귀곡선을 덧그리기\n",
    "plt.plot(x_plot, pred, color=\"black\")\n"
   ]
  },
  {
   "cell_type": "markdown",
   "metadata": {},
   "source": [
    "### 회귀 계수 해석"
   ]
  },
  {
   "cell_type": "code",
   "execution_count": 20,
   "metadata": {
    "ExecuteTime": {
     "end_time": "2024-03-06T11:41:06.450368Z",
     "start_time": "2024-03-06T11:41:06.427954Z"
    }
   },
   "outputs": [
    {
     "data": {
      "text/plain": [
       "0    1.10645\n",
       "dtype: float64"
      ]
     },
     "execution_count": 20,
     "metadata": {},
     "output_type": "execute_result"
    }
   ],
   "source": [
    "# 기온이 1도일 때의 판매 개수의 기대값\n",
    "exp_val_1 = pd.DataFrame({\"temperature\": [1]})\n",
    "pred_1 = mod_pois.predict(exp_val_1)\n",
    "\n",
    "# 기온이 2도일 때의 판매 개수의 기대값\n",
    "exp_val_2 = pd.DataFrame({\"temperature\": [2]})\n",
    "pred_2 = mod_pois.predict(exp_val_2)\n",
    "\n",
    "# 기온이 1도에서 1도 올라갈 때, 판매 개수는 몇 배로 증가하는가\n",
    "pred_2 / pred_1\n"
   ]
  },
  {
   "cell_type": "code",
   "execution_count": 14,
   "metadata": {
    "ExecuteTime": {
     "end_time": "2024-03-06T11:39:58.667102Z",
     "start_time": "2024-03-06T11:39:58.651654Z"
    }
   },
   "outputs": [
    {
     "data": {
      "text/plain": [
       "1.007669508713823"
      ]
     },
     "execution_count": 14,
     "metadata": {},
     "output_type": "execute_result"
    }
   ],
   "source": [
    "np.exp(mod_pois.params[\"temperature\"])"
   ]
  }
 ],
 "metadata": {
  "kernelspec": {
   "display_name": "Python 3",
   "language": "python",
   "name": "python3"
  },
  "language_info": {
   "codemirror_mode": {
    "name": "ipython",
    "version": 3
   },
   "file_extension": ".py",
   "mimetype": "text/x-python",
   "name": "python",
   "nbconvert_exporter": "python",
   "pygments_lexer": "ipython3",
   "version": "3.8.5"
  }
 },
 "nbformat": 4,
 "nbformat_minor": 2
}
