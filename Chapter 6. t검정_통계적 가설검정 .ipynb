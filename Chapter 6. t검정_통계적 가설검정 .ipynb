{
 "cells": [
  {
   "cell_type": "markdown",
   "metadata": {},
   "source": [
    "## Chapter 6. t검정_통계적 가설검정 "
   ]
  },
  {
   "cell_type": "markdown",
   "metadata": {},
   "source": [
    "### t검정"
   ]
  },
  {
   "cell_type": "code",
   "execution_count": 1,
   "metadata": {
    "ExecuteTime": {
     "end_time": "2024-02-07T10:16:32.754361Z",
     "start_time": "2024-02-07T10:16:23.034076Z"
    }
   },
   "outputs": [],
   "source": [
    "# 필요한 패키지, 모듈 불러오기\n",
    "import numpy as np\n",
    "import pandas as pd\n",
    "import scipy as sp\n",
    "from scipy import stats\n",
    "\n",
    "# 시각화 모듈 불러오기\n",
    "from matplotlib import pyplot as plt\n",
    "import seaborn as sns\n",
    "sns.set()"
   ]
  },
  {
   "cell_type": "code",
   "execution_count": 2,
   "metadata": {
    "ExecuteTime": {
     "end_time": "2024-02-07T10:16:32.774452Z",
     "start_time": "2024-02-07T10:16:32.754361Z"
    }
   },
   "outputs": [
    {
     "data": {
      "text/plain": [
       "'%.3f'"
      ]
     },
     "execution_count": 2,
     "metadata": {},
     "output_type": "execute_result"
    }
   ],
   "source": [
    "%precision 3"
   ]
  },
  {
   "cell_type": "code",
   "execution_count": 3,
   "metadata": {
    "ExecuteTime": {
     "end_time": "2024-02-07T10:16:32.787043Z",
     "start_time": "2024-02-07T10:16:32.779240Z"
    }
   },
   "outputs": [],
   "source": [
    "# # 소수점 3자리 설정\n",
    "pd.options.display.float_format = '{:.3f}'.format\n",
    "# %matplotlib inline"
   ]
  },
  {
   "cell_type": "code",
   "execution_count": 8,
   "metadata": {
    "ExecuteTime": {
     "end_time": "2024-02-07T10:22:04.897821Z",
     "start_time": "2024-02-07T10:22:04.883735Z"
    }
   },
   "outputs": [
    {
     "name": "stdout",
     "output_type": "stream",
     "text": [
      "데이터프레임:\n",
      "    Value\n",
      "0   1.634\n",
      "1   1.602\n",
      "2   1.680\n",
      "3   1.634\n",
      "4   1.585\n",
      "..    ...\n",
      "95  1.603\n",
      "96  1.721\n",
      "97  1.860\n",
      "98  1.806\n",
      "99  1.875\n",
      "\n",
      "[100 rows x 1 columns]\n"
     ]
    }
   ],
   "source": [
    "import numpy as np\n",
    "import pandas as pd\n",
    "\n",
    "# 데이터 생성\n",
    "mean = 1.62\n",
    "std_dev = 0.2\n",
    "sample_size = 100\n",
    "\n",
    "data = np.random.normal(mean, std_dev, sample_size)\n",
    "\n",
    "# 데이터프레임 생성\n",
    "df = pd.DataFrame(data, columns=['Value'])\n",
    "\n",
    "# 데이터프레임 출력\n",
    "print(\"데이터프레임:\")\n",
    "print(df)\n"
   ]
  },
  {
   "cell_type": "code",
   "execution_count": 11,
   "metadata": {
    "ExecuteTime": {
     "end_time": "2024-02-07T10:22:35.016416Z",
     "start_time": "2024-02-07T10:22:35.005392Z"
    }
   },
   "outputs": [
    {
     "name": "stdout",
     "output_type": "stream",
     "text": [
      "평균이 1.6과의 t-검정 결과:\n",
      "t-statistic: 0.0987523775090453\n",
      "p-value: 0.9215345588842019\n"
     ]
    }
   ],
   "source": [
    "import numpy as np\n",
    "from scipy import stats\n",
    "\n",
    "# 데이터 생성\n",
    "mean = 1.62\n",
    "std_dev = 0.1\n",
    "sample_size = 100\n",
    "\n",
    "data = np.random.normal(mean, std_dev, sample_size)\n",
    "\n",
    "# 표본 t-검정\n",
    "null_mean = 1.62\n",
    "t_statistic, p_value = stats.ttest_1samp(data, null_mean)\n",
    "\n",
    "print(\"평균이 1.6과의 t-검정 결과:\")\n",
    "print(f\"t-statistic: {t_statistic}\")\n",
    "print(f\"p-value: {p_value}\")\n"
   ]
  },
  {
   "cell_type": "code",
   "execution_count": 31,
   "metadata": {
    "ExecuteTime": {
     "end_time": "2024-02-07T10:28:28.372264Z",
     "start_time": "2024-02-07T10:28:28.357809Z"
    }
   },
   "outputs": [
    {
     "data": {
      "text/plain": [
       "array([1.476, 1.709, 1.642, 1.59 , 1.497, 1.502, 1.529, 1.659, 1.692,\n",
       "       1.61 , 1.525, 1.64 , 1.715, 1.618, 1.473, 1.7  , 1.574, 1.61 ,\n",
       "       1.622, 1.68 , 1.691, 1.633, 1.654, 1.627, 1.763, 1.513, 1.69 ,\n",
       "       1.734, 1.476, 1.602, 1.611, 1.5  , 1.551, 1.658, 1.648, 1.635,\n",
       "       1.667, 1.659, 1.781, 1.558, 1.614, 1.858, 1.571, 1.588, 1.498,\n",
       "       1.433, 1.669, 1.472, 1.668, 1.635, 1.449, 1.346, 1.534, 1.396,\n",
       "       1.862, 1.581, 1.455, 1.621, 1.597, 1.634, 1.69 , 1.673, 1.572,\n",
       "       1.493, 1.653, 1.716, 1.688, 1.57 , 1.732, 1.578, 1.568, 1.644,\n",
       "       1.586, 1.482, 1.679, 1.488, 1.55 , 1.763, 1.511, 1.717, 1.644,\n",
       "       1.824, 1.507, 1.637, 1.649, 1.869, 1.748, 1.842, 1.596, 1.754,\n",
       "       1.534, 1.878, 1.64 , 1.594, 1.75 , 1.581, 1.615, 1.568, 1.538,\n",
       "       1.784])"
      ]
     },
     "execution_count": 31,
     "metadata": {},
     "output_type": "execute_result"
    }
   ],
   "source": [
    "data"
   ]
  },
  {
   "cell_type": "code",
   "execution_count": 32,
   "metadata": {
    "ExecuteTime": {
     "end_time": "2024-02-07T10:28:33.012323Z",
     "start_time": "2024-02-07T10:28:32.993145Z"
    }
   },
   "outputs": [
    {
     "data": {
      "text/plain": [
       "1.6210533317547153"
      ]
     },
     "execution_count": 32,
     "metadata": {},
     "output_type": "execute_result"
    }
   ],
   "source": [
    "np.mean(data)"
   ]
  },
  {
   "cell_type": "code",
   "execution_count": 12,
   "metadata": {
    "ExecuteTime": {
     "end_time": "2024-02-07T10:23:00.461242Z",
     "start_time": "2024-02-07T10:23:00.443920Z"
    }
   },
   "outputs": [
    {
     "data": {
      "text/html": [
       "<div>\n",
       "<style scoped>\n",
       "    .dataframe tbody tr th:only-of-type {\n",
       "        vertical-align: middle;\n",
       "    }\n",
       "\n",
       "    .dataframe tbody tr th {\n",
       "        vertical-align: top;\n",
       "    }\n",
       "\n",
       "    .dataframe thead th {\n",
       "        text-align: right;\n",
       "    }\n",
       "</style>\n",
       "<table border=\"1\" class=\"dataframe\">\n",
       "  <thead>\n",
       "    <tr style=\"text-align: right;\">\n",
       "      <th></th>\n",
       "      <th>weight</th>\n",
       "    </tr>\n",
       "  </thead>\n",
       "  <tbody>\n",
       "    <tr>\n",
       "      <th>0</th>\n",
       "      <td>58.530</td>\n",
       "    </tr>\n",
       "    <tr>\n",
       "      <th>1</th>\n",
       "      <td>52.353</td>\n",
       "    </tr>\n",
       "    <tr>\n",
       "      <th>2</th>\n",
       "      <td>74.446</td>\n",
       "    </tr>\n",
       "    <tr>\n",
       "      <th>3</th>\n",
       "      <td>52.983</td>\n",
       "    </tr>\n",
       "    <tr>\n",
       "      <th>4</th>\n",
       "      <td>55.877</td>\n",
       "    </tr>\n",
       "  </tbody>\n",
       "</table>\n",
       "</div>"
      ],
      "text/plain": [
       "   weight\n",
       "0  58.530\n",
       "1  52.353\n",
       "2  74.446\n",
       "3  52.983\n",
       "4  55.877"
      ]
     },
     "execution_count": 12,
     "metadata": {},
     "output_type": "execute_result"
    }
   ],
   "source": [
    "# 데이터 불러오기\n",
    "junk_food = pd.read_csv(\"3-8-1-junk-food-weight.csv\")\n",
    "junk_food.head()"
   ]
  },
  {
   "cell_type": "code",
   "execution_count": 13,
   "metadata": {
    "ExecuteTime": {
     "end_time": "2024-02-07T10:23:03.138386Z",
     "start_time": "2024-02-07T10:23:03.127084Z"
    }
   },
   "outputs": [
    {
     "data": {
      "text/plain": [
       "(20, 1)"
      ]
     },
     "execution_count": 13,
     "metadata": {},
     "output_type": "execute_result"
    }
   ],
   "source": [
    "junk_food.shape"
   ]
  },
  {
   "cell_type": "code",
   "execution_count": 14,
   "metadata": {
    "ExecuteTime": {
     "end_time": "2024-02-07T10:23:03.600299Z",
     "start_time": "2024-02-07T10:23:03.578461Z"
    },
    "scrolled": true
   },
   "outputs": [
    {
     "data": {
      "text/plain": [
       "0   58.530\n",
       "1   52.353\n",
       "2   74.446\n",
       "3   52.983\n",
       "4   55.877\n",
       "Name: weight, dtype: float64"
      ]
     },
     "execution_count": 14,
     "metadata": {},
     "output_type": "execute_result"
    }
   ],
   "source": [
    "# 데이터 불러오기 #시리즈 형태로 불러오기 [\"\"]\n",
    "junk_food = pd.read_csv(\"3-8-1-junk-food-weight.csv\")[\"weight\"]\n",
    "junk_food.head()"
   ]
  },
  {
   "cell_type": "markdown",
   "metadata": {},
   "source": [
    "### t검정 구현"
   ]
  },
  {
   "cell_type": "code",
   "execution_count": 15,
   "metadata": {
    "ExecuteTime": {
     "end_time": "2024-02-07T10:23:06.667450Z",
     "start_time": "2024-02-07T10:23:06.661218Z"
    }
   },
   "outputs": [
    {
     "data": {
      "text/plain": [
       "55.38496619666667"
      ]
     },
     "execution_count": 15,
     "metadata": {},
     "output_type": "execute_result"
    }
   ],
   "source": [
    "# 표본평균 계산\n",
    "mu = np.mean(junk_food)\n",
    "mu"
   ]
  },
  {
   "cell_type": "code",
   "execution_count": 16,
   "metadata": {
    "ExecuteTime": {
     "end_time": "2024-02-07T10:23:08.083940Z",
     "start_time": "2024-02-07T10:23:08.078656Z"
    }
   },
   "outputs": [],
   "source": [
    "# np.set_printoptions(precision=3, suppress=False) # 소수점 3자리까지 표현 # 지수표현식(과학적표기법) 없애기\n",
    "# numpy는 변수나 상수는 set_printoptions(precision=n)이 적용되지 않는다. 사용을 한다면 리스트로 변경을 해줘야 한다."
   ]
  },
  {
   "cell_type": "code",
   "execution_count": 17,
   "metadata": {
    "ExecuteTime": {
     "end_time": "2024-02-07T10:23:09.631105Z",
     "start_time": "2024-02-07T10:23:09.623266Z"
    }
   },
   "outputs": [
    {
     "data": {
      "text/plain": [
       "19"
      ]
     },
     "execution_count": 17,
     "metadata": {},
     "output_type": "execute_result"
    }
   ],
   "source": [
    "# 자유도\n",
    "df = len(junk_food) - 1\n",
    "df"
   ]
  },
  {
   "cell_type": "code",
   "execution_count": 18,
   "metadata": {
    "ExecuteTime": {
     "end_time": "2024-02-07T10:23:11.288238Z",
     "start_time": "2024-02-07T10:23:11.271807Z"
    }
   },
   "outputs": [
    {
     "data": {
      "text/plain": [
       "1.9579276805755885"
      ]
     },
     "execution_count": 18,
     "metadata": {},
     "output_type": "execute_result"
    }
   ],
   "source": [
    "# 표준오차 구하기\n",
    "\n",
    "# 표준편차\n",
    "sigma = np.std(junk_food, ddof = 1)\n",
    "# 표준오차\n",
    "se = sigma / np.sqrt(len(junk_food))\n",
    "\n",
    "se"
   ]
  },
  {
   "cell_type": "code",
   "execution_count": 19,
   "metadata": {
    "ExecuteTime": {
     "end_time": "2024-02-07T10:23:14.088826Z",
     "start_time": "2024-02-07T10:23:14.079466Z"
    }
   },
   "outputs": [
    {
     "data": {
      "text/plain": [
       "2.7503396831713434"
      ]
     },
     "execution_count": 19,
     "metadata": {},
     "output_type": "execute_result"
    }
   ],
   "source": [
    "# t값\n",
    "t_value = (mu - 50) / se\n",
    "t_value"
   ]
  },
  {
   "cell_type": "markdown",
   "metadata": {},
   "source": [
    "### t검정 : p값 계산"
   ]
  },
  {
   "cell_type": "code",
   "execution_count": 20,
   "metadata": {
    "ExecuteTime": {
     "end_time": "2024-02-07T10:23:17.927841Z",
     "start_time": "2024-02-07T10:23:17.917189Z"
    }
   },
   "outputs": [
    {
     "data": {
      "text/plain": [
       "0.012725590012524268"
      ]
     },
     "execution_count": 20,
     "metadata": {},
     "output_type": "execute_result"
    }
   ],
   "source": [
    "# p값\n",
    "alpha = stats.t.cdf(t_value, df = df)\n",
    "(1 - alpha) * 2"
   ]
  },
  {
   "cell_type": "code",
   "execution_count": 21,
   "metadata": {
    "ExecuteTime": {
     "end_time": "2024-02-07T10:23:19.592148Z",
     "start_time": "2024-02-07T10:23:19.581577Z"
    }
   },
   "outputs": [
    {
     "data": {
      "text/plain": [
       "array([2.75 , 0.013])"
      ]
     },
     "execution_count": 21,
     "metadata": {},
     "output_type": "execute_result"
    }
   ],
   "source": [
    "# t검정\n",
    "T_RESULT = stats.ttest_1samp(junk_food, 50)\n",
    "np.array(T_RESULT)"
   ]
  },
  {
   "cell_type": "markdown",
   "metadata": {
    "collapsed": true
   },
   "source": [
    "### 위에서 계산한 p 값을 실제 샘플링을 여러번 반복하면서 증명"
   ]
  },
  {
   "cell_type": "code",
   "execution_count": 22,
   "metadata": {
    "ExecuteTime": {
     "end_time": "2024-02-07T10:23:24.581346Z",
     "start_time": "2024-02-07T10:23:24.564576Z"
    }
   },
   "outputs": [],
   "source": [
    "# 샘플사이즈와 표준편차\n",
    "size = len(junk_food)\n",
    "sigma = np.std(junk_food, ddof = 1)"
   ]
  },
  {
   "cell_type": "code",
   "execution_count": 23,
   "metadata": {
    "ExecuteTime": {
     "end_time": "2024-02-07T10:23:27.144687Z",
     "start_time": "2024-02-07T10:23:27.137568Z"
    }
   },
   "outputs": [],
   "source": [
    "# 반복을 위한 빈 공간 어레이 지정\n",
    "t_value_array = np.zeros(50000)"
   ]
  },
  {
   "cell_type": "code",
   "execution_count": 25,
   "metadata": {
    "ExecuteTime": {
     "end_time": "2024-02-07T10:26:09.006833Z",
     "start_time": "2024-02-07T10:26:07.147368Z"
    }
   },
   "outputs": [],
   "source": [
    "# 모평균이 50이고 표준편차가 20개 표본일때와 같게 정규분포를 만들어줍니다.\n",
    "np.random.seed(1)\n",
    "norm_dist = stats.norm(loc = 50, scale = sigma)\n",
    "\n",
    "# 정규분포에서 샘플링을 20개씩 해서 5만번 반복해서 평균, 표준편차, 표준오차를 계산하주고 이것으로 t값을 5만번 반복합니다.\n",
    "for i in range(0, 50000):\n",
    "    sample = norm_dist.rvs(size = size)\n",
    "    sample_mean = np.mean(sample)\n",
    "    sample_std = np.std(sample, ddof = 1)\n",
    "    sample_se = sample_std / np.sqrt(size)\n",
    "    t_value_array[i] = (sample_mean - 50) / sample_se"
   ]
  },
  {
   "cell_type": "code",
   "execution_count": 26,
   "metadata": {
    "ExecuteTime": {
     "end_time": "2024-02-07T10:26:09.718522Z",
     "start_time": "2024-02-07T10:26:09.703362Z"
    }
   },
   "outputs": [
    {
     "data": {
      "text/plain": [
       "0.01324"
      ]
     },
     "execution_count": 26,
     "metadata": {},
     "output_type": "execute_result"
    }
   ],
   "source": [
    "# 5만번 중에 모집단의 t값보다 더 큰 t값을 갖는 경우의 수 비율을 구합니다. 100번 중에 1.324회 정도?\n",
    "(sum(t_value_array > t_value) / 50000) * 2"
   ]
  }
 ],
 "metadata": {
  "kernelspec": {
   "display_name": "Python 3",
   "language": "python",
   "name": "python3"
  },
  "language_info": {
   "codemirror_mode": {
    "name": "ipython",
    "version": 3
   },
   "file_extension": ".py",
   "mimetype": "text/x-python",
   "name": "python",
   "nbconvert_exporter": "python",
   "pygments_lexer": "ipython3",
   "version": "3.8.5"
  },
  "latex_envs": {
   "LaTeX_envs_menu_present": true,
   "autoclose": false,
   "autocomplete": true,
   "bibliofile": "biblio.bib",
   "cite_by": "apalike",
   "current_citInitial": 1,
   "eqLabelWithNumbers": true,
   "eqNumInitial": 1,
   "hotkeys": {
    "equation": "Ctrl-E",
    "itemize": "Ctrl-I"
   },
   "labels_anchors": false,
   "latex_user_defs": false,
   "report_style_numbering": false,
   "user_envs_cfg": false
  }
 },
 "nbformat": 4,
 "nbformat_minor": 2
}
