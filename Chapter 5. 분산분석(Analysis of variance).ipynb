{
 "cells": [
  {
   "cell_type": "markdown",
   "metadata": {},
   "source": [
    "#  5. 데이터 분산분석\n",
    "\n",
    "## 1-1. ANOVA : Analysis of variance"
   ]
  },
  {
   "cell_type": "markdown",
   "metadata": {},
   "source": [
    "분산 분석은 통계학에서 두 개 이상 다수의 집단을 서로 비교하고자 할 때 집단 내의 분산, 총평균 그리고 각 집단의 평균의 차이에 의해 생긴 집단 간 분산의 비교를 통해 만들어진 F분포를 이용하여 가설검정을 하는 방법"
   ]
  },
  {
   "cell_type": "markdown",
   "metadata": {},
   "source": [
    "### 분석의 준비"
   ]
  },
  {
   "cell_type": "code",
   "execution_count": 1,
   "metadata": {
    "ExecuteTime": {
     "end_time": "2024-02-06T12:20:56.621679Z",
     "start_time": "2024-02-06T12:20:56.617222Z"
    }
   },
   "outputs": [],
   "source": [
    "# !pip install --user statsmodels==0.14.0 pydeseq2==0.4.3\n",
    "# 커넬 리스타트"
   ]
  },
  {
   "cell_type": "code",
   "execution_count": 2,
   "metadata": {
    "ExecuteTime": {
     "end_time": "2024-02-06T12:20:57.038434Z",
     "start_time": "2024-02-06T12:20:57.025402Z"
    }
   },
   "outputs": [],
   "source": [
    "# !pip install statsmodels"
   ]
  },
  {
   "cell_type": "code",
   "execution_count": 3,
   "metadata": {
    "ExecuteTime": {
     "end_time": "2024-02-06T12:21:05.397050Z",
     "start_time": "2024-02-06T12:20:57.509374Z"
    }
   },
   "outputs": [],
   "source": [
    "# 수치 계산에 사용되는 라이브러리\n",
    "import numpy as np\n",
    "import pandas as pd\n",
    "import scipy as sp\n",
    "from scipy import stats\n",
    "\n",
    "# 그래프를 그리는 라이브러리\n",
    "from matplotlib import pyplot as plt\n",
    "import seaborn as sns\n",
    "sns.set()\n",
    "\n",
    "# 통계 모델을 추정하는 라이브러리\n",
    "import statsmodels.formula.api as smf\n",
    "import statsmodels.api as sm\n",
    "\n",
    "# 표시 소수점 자릿수 지정\n",
    "%precision 3\n",
    "# 그래프를 Jupyter Notebook 내에서 표시하기 위한 지정\n",
    "%matplotlib inline"
   ]
  },
  {
   "cell_type": "markdown",
   "metadata": {},
   "source": [
    "### 데이터 생성 및 표시"
   ]
  },
  {
   "cell_type": "code",
   "execution_count": 4,
   "metadata": {
    "ExecuteTime": {
     "end_time": "2024-02-06T12:22:26.938664Z",
     "start_time": "2024-02-06T12:22:26.896784Z"
    }
   },
   "outputs": [
    {
     "name": "stdout",
     "output_type": "stream",
     "text": [
      "   homerun_ball weather\n",
      "0             6  cloudy\n",
      "1             8  cloudy\n",
      "2             2   rainy\n",
      "3             4   rainy\n",
      "4            10   sunny\n",
      "5            12   sunny\n"
     ]
    }
   ],
   "source": [
    "# 샘플 데이터 생성\n",
    "weather = [\n",
    "    \"cloudy\",\"cloudy\",\n",
    "    \"rainy\",\"rainy\",\n",
    "    \"sunny\",\"sunny\"\n",
    "]\n",
    "homerun_ball = [6,8,2,4,10,12]\n",
    "\n",
    "# 데이터프레임으로 결합\n",
    "weather_homerun_ball = pd.DataFrame({\n",
    "    \"homerun_ball\"   : homerun_ball,\n",
    "    \"weather\": weather\n",
    "})\n",
    "print(weather_homerun_ball)"
   ]
  },
  {
   "cell_type": "code",
   "execution_count": 5,
   "metadata": {
    "ExecuteTime": {
     "end_time": "2024-02-06T12:22:30.300492Z",
     "start_time": "2024-02-06T12:22:30.093000Z"
    }
   },
   "outputs": [
    {
     "data": {
      "text/plain": [
       "<AxesSubplot: xlabel='weather', ylabel='homerun_ball'>"
      ]
     },
     "execution_count": 5,
     "metadata": {},
     "output_type": "execute_result"
    },
    {
     "data": {
      "image/png": "[encoded data removed]",
      "text/plain": [
       "<Figure size 432x288 with 1 Axes>"
      ]
     },
     "metadata": {
      "needs_background": "light"
     },
     "output_type": "display_data"
    }
   ],
   "source": [
    "# 상자수염 그림 작성\n",
    "sns.boxplot(x = \"weather\",y = \"homerun_ball\",\n",
    "            data = weather_homerun_ball, color='gray')"
   ]
  },
  {
   "cell_type": "code",
   "execution_count": 6,
   "metadata": {
    "ExecuteTime": {
     "end_time": "2024-02-06T12:22:30.956652Z",
     "start_time": "2024-02-06T12:22:30.929192Z"
    }
   },
   "outputs": [
    {
     "name": "stdout",
     "output_type": "stream",
     "text": [
      "         homerun_ball\n",
      "weather              \n",
      "cloudy            7.0\n",
      "rainy             3.0\n",
      "sunny            11.0\n"
     ]
    }
   ],
   "source": [
    "# 각 데이터의 평균값\n",
    "print(weather_homerun_ball.groupby(\"weather\").mean())"
   ]
  },
  {
   "cell_type": "markdown",
   "metadata": {},
   "source": [
    "### 분산분석 ① 그룹 간 분산의 합과 그룹 내 분산의 합"
   ]
  },
  {
   "cell_type": "code",
   "execution_count": 7,
   "metadata": {
    "ExecuteTime": {
     "end_time": "2024-02-06T12:23:01.360365Z",
     "start_time": "2024-02-06T12:23:01.351197Z"
    }
   },
   "outputs": [],
   "source": [
    "# 날씨의 영향\n",
    "effect = [7,7,3,3,11,11]"
   ]
  },
  {
   "cell_type": "code",
   "execution_count": 8,
   "metadata": {
    "ExecuteTime": {
     "end_time": "2024-02-06T12:23:02.061978Z",
     "start_time": "2024-02-06T12:23:02.054050Z"
    }
   },
   "outputs": [
    {
     "data": {
      "text/plain": [
       "64.0"
      ]
     },
     "execution_count": 8,
     "metadata": {},
     "output_type": "execute_result"
    }
   ],
   "source": [
    "# 그룹 간 평균제곱 합\n",
    "mu_effect = np.mean(effect)\n",
    "squares_model = np.sum((effect - mu_effect) ** 2 )\n",
    "squares_model"
   ]
  },
  {
   "cell_type": "code",
   "execution_count": 9,
   "metadata": {
    "ExecuteTime": {
     "end_time": "2024-02-06T12:23:04.005770Z",
     "start_time": "2024-02-06T12:23:03.989034Z"
    }
   },
   "outputs": [
    {
     "data": {
      "text/plain": [
       "0   -1\n",
       "1    1\n",
       "2   -1\n",
       "3    1\n",
       "4   -1\n",
       "5    1\n",
       "Name: homerun_ball, dtype: int64"
      ]
     },
     "execution_count": 9,
     "metadata": {},
     "output_type": "execute_result"
    }
   ],
   "source": [
    "# 날씨로 설명할 수 없는 오차\n",
    "resid = weather_homerun_ball.homerun_ball - effect\n",
    "resid"
   ]
  },
  {
   "cell_type": "code",
   "execution_count": 10,
   "metadata": {
    "ExecuteTime": {
     "end_time": "2024-02-06T12:23:04.692474Z",
     "start_time": "2024-02-06T12:23:04.678806Z"
    }
   },
   "outputs": [
    {
     "data": {
      "text/plain": [
       "6"
      ]
     },
     "execution_count": 10,
     "metadata": {},
     "output_type": "execute_result"
    }
   ],
   "source": [
    "# 오차제곱합\n",
    "squares_resid = np.sum(resid ** 2)\n",
    "squares_resid"
   ]
  },
  {
   "cell_type": "markdown",
   "metadata": {},
   "source": [
    "### 분산 분석② 그룹간 분산과 그룹 내 분산"
   ]
  },
  {
   "cell_type": "code",
   "execution_count": 11,
   "metadata": {
    "ExecuteTime": {
     "end_time": "2024-02-06T12:24:02.074775Z",
     "start_time": "2024-02-06T12:24:02.070748Z"
    }
   },
   "outputs": [],
   "source": [
    "df_model = 2 # 그룹 간 변동의 자유도\n",
    "df_resid = 3 # 그룹 내 변동의 자유도"
   ]
  },
  {
   "cell_type": "code",
   "execution_count": 12,
   "metadata": {
    "ExecuteTime": {
     "end_time": "2024-02-06T12:24:02.695423Z",
     "start_time": "2024-02-06T12:24:02.683421Z"
    }
   },
   "outputs": [
    {
     "data": {
      "text/plain": [
       "32.0"
      ]
     },
     "execution_count": 12,
     "metadata": {},
     "output_type": "execute_result"
    }
   ],
   "source": [
    "# 그룹 간 분산\n",
    "variance_model = squares_model / df_model\n",
    "variance_model"
   ]
  },
  {
   "cell_type": "code",
   "execution_count": 13,
   "metadata": {
    "ExecuteTime": {
     "end_time": "2024-02-06T12:24:03.374964Z",
     "start_time": "2024-02-06T12:24:03.343056Z"
    }
   },
   "outputs": [
    {
     "data": {
      "text/plain": [
       "2.0"
      ]
     },
     "execution_count": 13,
     "metadata": {},
     "output_type": "execute_result"
    }
   ],
   "source": [
    "# 그룹 내 분산\n",
    "variance_resid = squares_resid / df_resid\n",
    "variance_resid"
   ]
  },
  {
   "cell_type": "markdown",
   "metadata": {},
   "source": [
    "### 분산분석 ③ p값 계산"
   ]
  },
  {
   "cell_type": "markdown",
   "metadata": {},
   "source": [
    " P-value란? P-value는 Probability-value의 줄임말로 확률 값을 뜻하며 어떤 사건이 우연히 발생할 확률을 말합니다."
   ]
  },
  {
   "cell_type": "markdown",
   "metadata": {
    "ExecuteTime": {
     "end_time": "2024-02-06T12:24:42.173857Z",
     "start_time": "2024-02-06T12:24:42.166018Z"
    }
   },
   "source": [
    "통계적 가설 검정에서 유의 확률 또는 p-값은 귀무가설이 맞다고 가정할 때 얻은 결과보다 극단적인 결과가 실제로 관측될 확률입니다.    \n",
    "실험의 유의확률은 실험의 표본 공간에서 정의되는 확률변수로서, 0~1 사이의 값을 가집니다.\n",
    "\n"
   ]
  },
  {
   "cell_type": "code",
   "execution_count": 16,
   "metadata": {
    "ExecuteTime": {
     "end_time": "2024-02-06T12:26:29.640777Z",
     "start_time": "2024-02-06T12:26:29.624578Z"
    }
   },
   "outputs": [
    {
     "data": {
      "text/plain": [
       "16.0"
      ]
     },
     "execution_count": 16,
     "metadata": {},
     "output_type": "execute_result"
    }
   ],
   "source": [
    "# F 비율\n",
    "f_ratio = variance_model / variance_resid\n",
    "f_ratio"
   ]
  },
  {
   "cell_type": "markdown",
   "metadata": {},
   "source": [
    "분산(variance, Var)은 통곗값과 평균값의 차이인 편차를 제곱하여 얻은 값들의 산술 평균이다. 분산이 작으면 자료는 평균값 주위에 모여 있게 되고, 분산이 크면 자료 가운데 평균값에서 멀리 떨어진 것이 많게 된다. 또한 개체(object)로부터 얻어진 데이타들의 집합인 샘플과 이러한 샘플들이 2개 이상이 되면 샘플들간의 평균의 분산을 얻을수있다. 이처럼 샘플내 분산값은 샘플들간이 평균분산에서 유의미성을 보여줄 수 있다. "
   ]
  },
  {
   "cell_type": "markdown",
   "metadata": {},
   "source": [
    "$${\\displaystyle F={{\\text{샘 플 간   평 균  분 산 }} \\over {\\text{샘 플 내   분 산 }}}}$$"
   ]
  },
  {
   "cell_type": "code",
   "execution_count": 17,
   "metadata": {
    "ExecuteTime": {
     "end_time": "2024-02-06T12:26:30.352348Z",
     "start_time": "2024-02-06T12:26:30.344002Z"
    }
   },
   "outputs": [
    {
     "data": {
      "text/plain": [
       "0.02509457330439091"
      ]
     },
     "execution_count": 17,
     "metadata": {},
     "output_type": "execute_result"
    }
   ],
   "source": [
    "# p 값\n",
    "1 - sp.stats.f.cdf(x=f_ratio,dfn=df_model,dfd=df_resid)"
   ]
  },
  {
   "cell_type": "markdown",
   "metadata": {},
   "source": [
    "### statsmodels를 사용한 분산분석"
   ]
  },
  {
   "cell_type": "code",
   "execution_count": 18,
   "metadata": {
    "ExecuteTime": {
     "end_time": "2024-02-06T12:26:36.060602Z",
     "start_time": "2024-02-06T12:26:36.027284Z"
    }
   },
   "outputs": [],
   "source": [
    "# 정규 선형 모델 구축\n",
    "anova_model = smf.ols(\"homerun_ball ~ weather\", \n",
    "                      data = weather_homerun_ball).fit()"
   ]
  },
  {
   "cell_type": "code",
   "execution_count": 19,
   "metadata": {
    "ExecuteTime": {
     "end_time": "2024-02-06T12:26:37.843128Z",
     "start_time": "2024-02-06T12:26:37.812211Z"
    }
   },
   "outputs": [
    {
     "name": "stdout",
     "output_type": "stream",
     "text": [
      "          sum_sq   df     F    PR(>F)\n",
      "weather     64.0  2.0  16.0  0.025095\n",
      "Residual     6.0  3.0   NaN       NaN\n"
     ]
    }
   ],
   "source": [
    "# 분산분석 결과\n",
    "print(sm.stats.anova_lm(anova_model, typ=2))"
   ]
  },
  {
   "cell_type": "markdown",
   "metadata": {},
   "source": [
    "### 모델 계수 해석"
   ]
  },
  {
   "cell_type": "code",
   "execution_count": 20,
   "metadata": {
    "ExecuteTime": {
     "end_time": "2024-02-06T12:26:39.754226Z",
     "start_time": "2024-02-06T12:26:39.746990Z"
    }
   },
   "outputs": [
    {
     "data": {
      "text/plain": [
       "Intercept           7.0\n",
       "weather[T.rainy]   -4.0\n",
       "weather[T.sunny]    4.0\n",
       "dtype: float64"
      ]
     },
     "execution_count": 20,
     "metadata": {},
     "output_type": "execute_result"
    }
   ],
   "source": [
    "anova_model.params"
   ]
  },
  {
   "cell_type": "markdown",
   "metadata": {},
   "source": [
    "### 모델을 사용하여 오차와 효과 분리"
   ]
  },
  {
   "cell_type": "code",
   "execution_count": 21,
   "metadata": {
    "ExecuteTime": {
     "end_time": "2024-02-06T12:26:47.058466Z",
     "start_time": "2024-02-06T12:26:47.037491Z"
    }
   },
   "outputs": [
    {
     "data": {
      "text/plain": [
       "0     7.0\n",
       "1     7.0\n",
       "2     3.0\n",
       "3     3.0\n",
       "4    11.0\n",
       "5    11.0\n",
       "dtype: float64"
      ]
     },
     "execution_count": 21,
     "metadata": {},
     "output_type": "execute_result"
    }
   ],
   "source": [
    "#적합값\n",
    "fitted = anova_model.fittedvalues\n",
    "fitted"
   ]
  },
  {
   "cell_type": "code",
   "execution_count": 22,
   "metadata": {
    "ExecuteTime": {
     "end_time": "2024-02-06T12:26:48.036581Z",
     "start_time": "2024-02-06T12:26:48.027621Z"
    }
   },
   "outputs": [
    {
     "data": {
      "text/plain": [
       "0   -1.0\n",
       "1    1.0\n",
       "2   -1.0\n",
       "3    1.0\n",
       "4   -1.0\n",
       "5    1.0\n",
       "dtype: float64"
      ]
     },
     "execution_count": 22,
     "metadata": {},
     "output_type": "execute_result"
    }
   ],
   "source": [
    "# 잔차\n",
    "anova_model.resid"
   ]
  },
  {
   "cell_type": "markdown",
   "metadata": {
    "collapsed": true
   },
   "source": [
    "### 회귀 모델에서의 분산분석"
   ]
  },
  {
   "cell_type": "markdown",
   "metadata": {},
   "source": [
    "### 데이터 생성"
   ]
  },
  {
   "cell_type": "code",
   "execution_count": 29,
   "metadata": {
    "ExecuteTime": {
     "end_time": "2024-02-06T12:34:20.566916Z",
     "start_time": "2024-02-06T12:34:20.550773Z"
    }
   },
   "outputs": [
    {
     "name": "stdout",
     "output_type": "stream",
     "text": [
      "변수1 (홈런볼 판매수량) 데이터 예시: [54 90 92 27 13 63 83 34 79 45]\n",
      "변수2 (기온) 데이터 예시: [13.95 33.31 24.24  9.75 24.47  0.42 19.29 17.72 17.82 -5.5 ]\n",
      "데이터프레임 예시:\n",
      "   hr_ball_salses  temperature\n",
      "0              54        13.95\n",
      "1              90        33.31\n",
      "2              92        24.24\n",
      "3              27         9.75\n",
      "4              13        24.47\n"
     ]
    }
   ],
   "source": [
    "import numpy as np\n",
    "import pandas as pd\n",
    "\n",
    "# 변수1 (홈런볼 판매수량)\n",
    "mean1 = 50\n",
    "max1 = 100\n",
    "min1 = 10\n",
    "\n",
    "# 변수2 (기온)\n",
    "mean2 = 20\n",
    "max2 = 40\n",
    "min2 = -10\n",
    "\n",
    "# 데이터 사이즈\n",
    "data_size = 300\n",
    "\n",
    "# 변수1과 변수2의 데이터 생성\n",
    "variable1 = np.random.randint(min1, max1+1, data_size)\n",
    "variable2 = np.round(np.random.uniform(min2, max2, data_size), 2)\n",
    "\n",
    "# 데이터 프레임 생성\n",
    "df = pd.DataFrame({\n",
    "    'hr_ball_salses': variable1,\n",
    "    'temperature': variable2\n",
    "})\n",
    "\n",
    "# CSV 파일로 저장\n",
    "df.to_csv('homerun_ball_temp.csv', index=False)\n",
    "\n",
    "# 결과 확인\n",
    "print(\"변수1 (홈런볼 판매수량) 데이터 예시:\", variable1[:10])\n",
    "print(\"변수2 (기온) 데이터 예시:\", variable2[:10])\n",
    "print(\"데이터프레임 예시:\")\n",
    "print(df.head())\n"
   ]
  },
  {
   "cell_type": "code",
   "execution_count": 30,
   "metadata": {
    "ExecuteTime": {
     "end_time": "2024-02-06T12:34:32.294280Z",
     "start_time": "2024-02-06T12:34:32.279471Z"
    }
   },
   "outputs": [],
   "source": [
    "# 데이터 읽기\n",
    "homerun_ball = pd.read_csv(\"homerun_ball_temp.csv\")\n",
    "\n",
    "# 모델 추정\n",
    "lm_model = smf.ols(formula = \"hr_ball_salses ~ temperature\", \n",
    "                   data = homerun_ball).fit()"
   ]
  },
  {
   "cell_type": "code",
   "execution_count": 31,
   "metadata": {
    "ExecuteTime": {
     "end_time": "2024-02-06T12:34:35.462596Z",
     "start_time": "2024-02-06T12:34:35.456546Z"
    }
   },
   "outputs": [],
   "source": [
    "df_lm_model = 1  # 모델의 자유도\n",
    "df_lm_resid = 28 # 잔차의 자유도"
   ]
  },
  {
   "cell_type": "code",
   "execution_count": 32,
   "metadata": {
    "ExecuteTime": {
     "end_time": "2024-02-06T12:34:42.035008Z",
     "start_time": "2024-02-06T12:34:42.028636Z"
    }
   },
   "outputs": [
    {
     "data": {
      "text/plain": [
       "0.006401302058410296"
      ]
     },
     "execution_count": 32,
     "metadata": {},
     "output_type": "execute_result"
    }
   ],
   "source": [
    "# 모델을 적용한 값\n",
    "lm_effect = lm_model.fittedvalues\n",
    "\n",
    "# 잔차\n",
    "lm_resid = lm_model.resid\n",
    "\n",
    "# 기온의 효과의 크기\n",
    "mu = np.mean(lm_effect)\n",
    "squares_lm_model = np.sum((lm_effect - mu) ** 2)\n",
    "variance_lm_model = squares_lm_model / df_lm_model\n",
    "\n",
    "# 잔차의 크기\n",
    "squares_lm_resid = np.sum((lm_resid) ** 2)\n",
    "variance_lm_resid = squares_lm_resid / df_lm_resid\n",
    "\n",
    "# F비\n",
    "f_value_lm = variance_lm_model / variance_lm_resid\n",
    "f_value_lm"
   ]
  },
  {
   "cell_type": "code",
   "execution_count": 33,
   "metadata": {
    "ExecuteTime": {
     "end_time": "2024-02-06T12:34:45.915485Z",
     "start_time": "2024-02-06T12:34:45.884745Z"
    }
   },
   "outputs": [
    {
     "data": {
      "text/plain": [
       "0.9367998992013534"
      ]
     },
     "execution_count": 33,
     "metadata": {},
     "output_type": "execute_result"
    }
   ],
   "source": [
    "# 참고: p값 (자릿수 버림으로 0이 됨)|\n",
    "1 - sp.stats.f.cdf(\n",
    "    x=f_value_lm,dfn=df_lm_model,dfd=df_lm_resid)"
   ]
  },
  {
   "cell_type": "code",
   "execution_count": 34,
   "metadata": {
    "ExecuteTime": {
     "end_time": "2024-02-06T12:34:48.255651Z",
     "start_time": "2024-02-06T12:34:48.242930Z"
    }
   },
   "outputs": [
    {
     "name": "stdout",
     "output_type": "stream",
     "text": [
      "                   sum_sq     df         F    PR(>F)\n",
      "temperature      46.42906    1.0  0.068128  0.794262\n",
      "Residual     203085.82094  298.0       NaN       NaN\n"
     ]
    }
   ],
   "source": [
    "# 분산분석 테이블\n",
    "print(sm.stats.anova_lm(lm_model, typ=2))"
   ]
  },
  {
   "cell_type": "code",
   "execution_count": 35,
   "metadata": {
    "ExecuteTime": {
     "end_time": "2024-02-06T12:34:49.541596Z",
     "start_time": "2024-02-06T12:34:49.516508Z"
    }
   },
   "outputs": [
    {
     "data": {
      "text/html": [
       "<table class=\"simpletable\">\n",
       "<caption>OLS Regression Results</caption>\n",
       "<tr>\n",
       "  <th>Dep. Variable:</th>     <td>hr_ball_salses</td>  <th>  R-squared:         </th> <td>   0.000</td>\n",
       "</tr>\n",
       "<tr>\n",
       "  <th>Model:</th>                   <td>OLS</td>       <th>  Adj. R-squared:    </th> <td>  -0.003</td>\n",
       "</tr>\n",
       "<tr>\n",
       "  <th>Method:</th>             <td>Least Squares</td>  <th>  F-statistic:       </th> <td> 0.06813</td>\n",
       "</tr>\n",
       "<tr>\n",
       "  <th>Date:</th>             <td>Tue, 06 Feb 2024</td> <th>  Prob (F-statistic):</th>  <td> 0.794</td> \n",
       "</tr>\n",
       "<tr>\n",
       "  <th>Time:</th>                 <td>21:34:49</td>     <th>  Log-Likelihood:    </th> <td> -1403.3</td>\n",
       "</tr>\n",
       "<tr>\n",
       "  <th>No. Observations:</th>      <td>   300</td>      <th>  AIC:               </th> <td>   2811.</td>\n",
       "</tr>\n",
       "<tr>\n",
       "  <th>Df Residuals:</th>          <td>   298</td>      <th>  BIC:               </th> <td>   2818.</td>\n",
       "</tr>\n",
       "<tr>\n",
       "  <th>Df Model:</th>              <td>     1</td>      <th>                     </th>     <td> </td>   \n",
       "</tr>\n",
       "<tr>\n",
       "  <th>Covariance Type:</th>      <td>nonrobust</td>    <th>                     </th>     <td> </td>   \n",
       "</tr>\n",
       "</table>\n",
       "<table class=\"simpletable\">\n",
       "<tr>\n",
       "       <td></td>          <th>coef</th>     <th>std err</th>      <th>t</th>      <th>P>|t|</th>  <th>[0.025</th>    <th>0.975]</th>  \n",
       "</tr>\n",
       "<tr>\n",
       "  <th>Intercept</th>   <td>   56.2031</td> <td>    2.281</td> <td>   24.638</td> <td> 0.000</td> <td>   51.714</td> <td>   60.692</td>\n",
       "</tr>\n",
       "<tr>\n",
       "  <th>temperature</th> <td>    0.0277</td> <td>    0.106</td> <td>    0.261</td> <td> 0.794</td> <td>   -0.181</td> <td>    0.237</td>\n",
       "</tr>\n",
       "</table>\n",
       "<table class=\"simpletable\">\n",
       "<tr>\n",
       "  <th>Omnibus:</th>       <td>115.206</td> <th>  Durbin-Watson:     </th> <td>   1.847</td>\n",
       "</tr>\n",
       "<tr>\n",
       "  <th>Prob(Omnibus):</th> <td> 0.000</td>  <th>  Jarque-Bera (JB):  </th> <td>  17.076</td>\n",
       "</tr>\n",
       "<tr>\n",
       "  <th>Skew:</th>          <td>-0.126</td>  <th>  Prob(JB):          </th> <td>0.000196</td>\n",
       "</tr>\n",
       "<tr>\n",
       "  <th>Kurtosis:</th>      <td> 1.859</td>  <th>  Cond. No.          </th> <td>    32.6</td>\n",
       "</tr>\n",
       "</table><br/><br/>Notes:<br/>[1] Standard Errors assume that the covariance matrix of the errors is correctly specified."
      ],
      "text/latex": [
       "\\begin{center}\n",
       "\\begin{tabular}{lclc}\n",
       "\\toprule\n",
       "\\textbf{Dep. Variable:}    & hr\\_ball\\_salses & \\textbf{  R-squared:         } &     0.000   \\\\\n",
       "\\textbf{Model:}            &       OLS        & \\textbf{  Adj. R-squared:    } &    -0.003   \\\\\n",
       "\\textbf{Method:}           &  Least Squares   & \\textbf{  F-statistic:       } &   0.06813   \\\\\n",
       "\\textbf{Date:}             & Tue, 06 Feb 2024 & \\textbf{  Prob (F-statistic):} &    0.794    \\\\\n",
       "\\textbf{Time:}             &     21:34:49     & \\textbf{  Log-Likelihood:    } &   -1403.3   \\\\\n",
       "\\textbf{No. Observations:} &         300      & \\textbf{  AIC:               } &     2811.   \\\\\n",
       "\\textbf{Df Residuals:}     &         298      & \\textbf{  BIC:               } &     2818.   \\\\\n",
       "\\textbf{Df Model:}         &           1      & \\textbf{                     } &             \\\\\n",
       "\\textbf{Covariance Type:}  &    nonrobust     & \\textbf{                     } &             \\\\\n",
       "\\bottomrule\n",
       "\\end{tabular}\n",
       "\\begin{tabular}{lcccccc}\n",
       "                     & \\textbf{coef} & \\textbf{std err} & \\textbf{t} & \\textbf{P$> |$t$|$} & \\textbf{[0.025} & \\textbf{0.975]}  \\\\\n",
       "\\midrule\n",
       "\\textbf{Intercept}   &      56.2031  &        2.281     &    24.638  &         0.000        &       51.714    &       60.692     \\\\\n",
       "\\textbf{temperature} &       0.0277  &        0.106     &     0.261  &         0.794        &       -0.181    &        0.237     \\\\\n",
       "\\bottomrule\n",
       "\\end{tabular}\n",
       "\\begin{tabular}{lclc}\n",
       "\\textbf{Omnibus:}       & 115.206 & \\textbf{  Durbin-Watson:     } &    1.847  \\\\\n",
       "\\textbf{Prob(Omnibus):} &   0.000 & \\textbf{  Jarque-Bera (JB):  } &   17.076  \\\\\n",
       "\\textbf{Skew:}          &  -0.126 & \\textbf{  Prob(JB):          } & 0.000196  \\\\\n",
       "\\textbf{Kurtosis:}      &   1.859 & \\textbf{  Cond. No.          } &     32.6  \\\\\n",
       "\\bottomrule\n",
       "\\end{tabular}\n",
       "%\\caption{OLS Regression Results}\n",
       "\\end{center}\n",
       "\n",
       "Notes: \\newline\n",
       " [1] Standard Errors assume that the covariance matrix of the errors is correctly specified."
      ],
      "text/plain": [
       "<class 'statsmodels.iolib.summary.Summary'>\n",
       "\"\"\"\n",
       "                            OLS Regression Results                            \n",
       "==============================================================================\n",
       "Dep. Variable:         hr_ball_salses   R-squared:                       0.000\n",
       "Model:                            OLS   Adj. R-squared:                 -0.003\n",
       "Method:                 Least Squares   F-statistic:                   0.06813\n",
       "Date:                Tue, 06 Feb 2024   Prob (F-statistic):              0.794\n",
       "Time:                        21:34:49   Log-Likelihood:                -1403.3\n",
       "No. Observations:                 300   AIC:                             2811.\n",
       "Df Residuals:                     298   BIC:                             2818.\n",
       "Df Model:                           1                                         \n",
       "Covariance Type:            nonrobust                                         \n",
       "===============================================================================\n",
       "                  coef    std err          t      P>|t|      [0.025      0.975]\n",
       "-------------------------------------------------------------------------------\n",
       "Intercept      56.2031      2.281     24.638      0.000      51.714      60.692\n",
       "temperature     0.0277      0.106      0.261      0.794      -0.181       0.237\n",
       "==============================================================================\n",
       "Omnibus:                      115.206   Durbin-Watson:                   1.847\n",
       "Prob(Omnibus):                  0.000   Jarque-Bera (JB):               17.076\n",
       "Skew:                          -0.126   Prob(JB):                     0.000196\n",
       "Kurtosis:                       1.859   Cond. No.                         32.6\n",
       "==============================================================================\n",
       "\n",
       "Notes:\n",
       "[1] Standard Errors assume that the covariance matrix of the errors is correctly specified.\n",
       "\"\"\""
      ]
     },
     "execution_count": 35,
     "metadata": {},
     "output_type": "execute_result"
    }
   ],
   "source": [
    "# 모델 summary\n",
    "lm_model.summary()"
   ]
  }
 ],
 "metadata": {
  "kernelspec": {
   "display_name": "Python 3",
   "language": "python",
   "name": "python3"
  },
  "language_info": {
   "codemirror_mode": {
    "name": "ipython",
    "version": 3
   },
   "file_extension": ".py",
   "mimetype": "text/x-python",
   "name": "python",
   "nbconvert_exporter": "python",
   "pygments_lexer": "ipython3",
   "version": "3.8.5"
  }
 },
 "nbformat": 4,
 "nbformat_minor": 2
}
