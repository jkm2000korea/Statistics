{
 "cells": [
  {
   "cell_type": "markdown",
   "metadata": {},
   "source": [
    "# 4. 표본과 평균"
   ]
  },
  {
   "cell_type": "markdown",
   "metadata": {},
   "source": [
    "### 4-1. 시행"
   ]
  },
  {
   "cell_type": "markdown",
   "metadata": {
    "ExecuteTime": {
     "end_time": "2022-11-07T07:15:12.598476Z",
     "start_time": "2022-11-07T07:15:12.569881Z"
    }
   },
   "source": [
    "* 시행 : 조사를 1회 한 것  \n",
    "* 시행횟수 : 같은 조건으로 시행을 반복한 횟수"
   ]
  },
  {
   "cell_type": "code",
   "execution_count": 1,
   "metadata": {
    "ExecuteTime": {
     "end_time": "2024-02-05T10:37:40.351654Z",
     "start_time": "2024-02-05T10:37:39.302257Z"
    }
   },
   "outputs": [],
   "source": [
    "# 필요한 패키지, 모듈 불러오기\n",
    "import numpy as np\n",
    "import pandas as pd\n",
    "import scipy as sp\n",
    "from scipy import stats\n",
    "\n",
    "# 시각화 패키지 불러오기\n",
    "from matplotlib import pyplot as plt\n",
    "import seaborn as sns\n",
    "sns.set()\n",
    "\n",
    "# 소수점 지정\n",
    "%precision 3\n",
    "# 시각화 바로보기\n",
    "%matplotlib inline"
   ]
  },
  {
   "cell_type": "code",
   "execution_count": 2,
   "metadata": {
    "ExecuteTime": {
     "end_time": "2024-02-05T10:37:40.367169Z",
     "start_time": "2024-02-05T10:37:40.353642Z"
    }
   },
   "outputs": [],
   "source": [
    "# 평균이 1.62, 표준편차가 0.2(분산 0.04)인 정규분포\n",
    "population = stats.norm(loc = 1.62, scale = 0.2)"
   ]
  },
  {
   "cell_type": "markdown",
   "metadata": {},
   "source": [
    "### 표본 평균을 여러번 계산하기"
   ]
  },
  {
   "cell_type": "code",
   "execution_count": 3,
   "metadata": {
    "ExecuteTime": {
     "end_time": "2024-02-05T10:37:40.384394Z",
     "start_time": "2024-02-05T10:37:40.375203Z"
    }
   },
   "outputs": [],
   "source": [
    "# 시행횟수를 10,000회(표본평균을10,000개 얻기 위해서 일단 0을 10,000개 생성)\n",
    "sample_mean_array = np.zeros(10000)"
   ]
  },
  {
   "cell_type": "code",
   "execution_count": 4,
   "metadata": {
    "ExecuteTime": {
     "end_time": "2024-02-05T10:37:40.400549Z",
     "start_time": "2024-02-05T10:37:40.386688Z"
    }
   },
   "outputs": [
    {
     "data": {
      "text/plain": [
       "array([0., 0., 0., ..., 0., 0., 0.])"
      ]
     },
     "execution_count": 4,
     "metadata": {},
     "output_type": "execute_result"
    }
   ],
   "source": [
    "sample_mean_array"
   ]
  },
  {
   "cell_type": "code",
   "execution_count": 5,
   "metadata": {
    "ExecuteTime": {
     "end_time": "2024-02-05T10:37:40.417465Z",
     "start_time": "2024-02-05T10:37:40.402370Z"
    }
   },
   "outputs": [
    {
     "data": {
      "text/plain": [
       "10000"
      ]
     },
     "execution_count": 5,
     "metadata": {},
     "output_type": "execute_result"
    }
   ],
   "source": [
    "len(sample_mean_array)"
   ]
  },
  {
   "cell_type": "code",
   "execution_count": 6,
   "metadata": {
    "ExecuteTime": {
     "end_time": "2024-02-05T10:37:40.727051Z",
     "start_time": "2024-02-05T10:37:40.419730Z"
    }
   },
   "outputs": [],
   "source": [
    "np.random.seed(1)\n",
    "for i in range(0, 10000):\n",
    "    sample = population.rvs(size = 10) # 평균이 1.62, 표준편차가 0.2(분산 0.04), 표본수가 10인 정규분포를 생성.\n",
    "    sample_mean_array[i] = np.mean(sample) # 정규분포의 평균을 계산해서 0번 부터 10,000번까지 array를 생성"
   ]
  },
  {
   "cell_type": "code",
   "execution_count": 7,
   "metadata": {
    "ExecuteTime": {
     "end_time": "2024-02-05T10:37:40.744788Z",
     "start_time": "2024-02-05T10:37:40.728817Z"
    },
    "scrolled": true
   },
   "outputs": [
    {
     "data": {
      "text/plain": [
       "array([1.601, 1.586, 1.637, ..., 1.654, 1.764, 1.645])"
      ]
     },
     "execution_count": 7,
     "metadata": {},
     "output_type": "execute_result"
    }
   ],
   "source": [
    "# 10,000개의 (표본)평균들의 리스트\n",
    "sample_mean_array"
   ]
  },
  {
   "cell_type": "markdown",
   "metadata": {},
   "source": [
    "### 표본평균의 평균값은 모평균에 가깝다"
   ]
  },
  {
   "cell_type": "code",
   "execution_count": 8,
   "metadata": {
    "ExecuteTime": {
     "end_time": "2024-02-05T10:37:40.750758Z",
     "start_time": "2024-02-05T10:37:40.744788Z"
    }
   },
   "outputs": [
    {
     "data": {
      "text/plain": [
       "1.6210506056979368"
      ]
     },
     "execution_count": 8,
     "metadata": {},
     "output_type": "execute_result"
    }
   ],
   "source": [
    "# 표본 평균의 평균값\n",
    "np.mean(sample_mean_array)"
   ]
  },
  {
   "cell_type": "code",
   "execution_count": 9,
   "metadata": {
    "ExecuteTime": {
     "end_time": "2024-02-05T10:37:40.766540Z",
     "start_time": "2024-02-05T10:37:40.750758Z"
    }
   },
   "outputs": [
    {
     "data": {
      "text/plain": [
       "0.06283952127151005"
      ]
     },
     "execution_count": 9,
     "metadata": {},
     "output_type": "execute_result"
    }
   ],
   "source": [
    "# 표본 평균의 표준 편차\n",
    "np.std(sample_mean_array, ddof = 1)"
   ]
  },
  {
   "cell_type": "code",
   "execution_count": 10,
   "metadata": {
    "ExecuteTime": {
     "end_time": "2024-02-05T10:37:40.999131Z",
     "start_time": "2024-02-05T10:37:40.769719Z"
    }
   },
   "outputs": [
    {
     "data": {
      "text/plain": [
       "<AxesSubplot: ylabel='Count'>"
      ]
     },
     "execution_count": 10,
     "metadata": {},
     "output_type": "execute_result"
    },
    {
     "data": {
      "image/png": "[encoded data removed]",
      "text/plain": [
       "<Figure size 432x288 with 1 Axes>"
      ]
     },
     "metadata": {
      "needs_background": "light"
     },
     "output_type": "display_data"
    }
   ],
   "source": [
    "# 표본 평균의 표준 편차\n",
    "sns.histplot(sample_mean_array, color = 'black')"
   ]
  },
  {
   "cell_type": "code",
   "execution_count": 11,
   "metadata": {
    "ExecuteTime": {
     "end_time": "2024-02-05T10:37:41.016365Z",
     "start_time": "2024-02-05T10:37:41.001320Z"
    },
    "scrolled": true
   },
   "outputs": [
    {
     "data": {
      "text/plain": [
       "array([    10,    110,    210, ...,  99810,  99910, 100010])"
      ]
     },
     "execution_count": 11,
     "metadata": {},
     "output_type": "execute_result"
    }
   ],
   "source": [
    "# 샘플 사이즈를 10~100100까지의 범위에서 100 단락으로 변화시킨다\n",
    "size_array =  np.arange(\n",
    "    start = 10, stop = 100100, step = 100)\n",
    "size_array"
   ]
  },
  {
   "cell_type": "code",
   "execution_count": 12,
   "metadata": {
    "ExecuteTime": {
     "end_time": "2024-02-05T10:37:41.033484Z",
     "start_time": "2024-02-05T10:37:41.017838Z"
    }
   },
   "outputs": [],
   "source": [
    "# 표본 평균을 샘플 사이즈 개수만큼 0을 생성\n",
    "sample_mean_array_size = np.zeros(len(size_array))"
   ]
  },
  {
   "cell_type": "code",
   "execution_count": 13,
   "metadata": {
    "ExecuteTime": {
     "end_time": "2024-02-05T10:37:42.099627Z",
     "start_time": "2024-02-05T10:37:41.034613Z"
    }
   },
   "outputs": [],
   "source": [
    "# \"표본 평균 구하기\" 시도를 샘플 크기를 변경하면서 여러 번 실행\n",
    "np.random.seed(1)\n",
    "for i in range(0, len(size_array)):\n",
    "    sample = population.rvs(size = size_array[i])\n",
    "    sample_mean_array_size[i] = np.mean(sample)"
   ]
  },
  {
   "cell_type": "code",
   "execution_count": 14,
   "metadata": {
    "ExecuteTime": {
     "end_time": "2024-02-05T10:37:42.194517Z",
     "start_time": "2024-02-05T10:37:42.100292Z"
    },
    "scrolled": false
   },
   "outputs": [
    {
     "data": {
      "text/plain": [
       "Text(0, 0.5, 'sample mean')"
      ]
     },
     "execution_count": 14,
     "metadata": {},
     "output_type": "execute_result"
    },
    {
     "data": {
      "image/png": "[encoded data removed]",
      "text/plain": [
       "<Figure size 432x288 with 1 Axes>"
      ]
     },
     "metadata": {
      "needs_background": "light"
     },
     "output_type": "display_data"
    }
   ],
   "source": [
    "plt.plot(size_array, sample_mean_array_size, \n",
    "         color = 'black')\n",
    "plt.xlabel(\"sample size\")\n",
    "plt.ylabel(\"sample mean\")"
   ]
  },
  {
   "cell_type": "markdown",
   "metadata": {},
   "source": [
    "### 샘플 평균을 여러 번 계산하는 함수 만들기"
   ]
  },
  {
   "cell_type": "code",
   "execution_count": 15,
   "metadata": {
    "ExecuteTime": {
     "end_time": "2024-02-05T10:37:42.210178Z",
     "start_time": "2024-02-05T10:37:42.195066Z"
    }
   },
   "outputs": [],
   "source": [
    "# 샘플 평균을 여러 번 계산하는 함수\n",
    "def calc_sample_mean(size, n_trial):\n",
    "    sample_mean_array = np.zeros(n_trial)\n",
    "    \n",
    "    for i in range(0, n_trial):\n",
    "        sample = population.rvs(size = size)\n",
    "        sample_mean_array[i] = np.mean(sample)\n",
    "        \n",
    "    return(sample_mean_array)"
   ]
  },
  {
   "cell_type": "code",
   "execution_count": 16,
   "metadata": {
    "ExecuteTime": {
     "end_time": "2024-02-05T10:37:42.533040Z",
     "start_time": "2024-02-05T10:37:42.210817Z"
    }
   },
   "outputs": [
    {
     "data": {
      "text/plain": [
       "1.6210506056979368"
      ]
     },
     "execution_count": 16,
     "metadata": {},
     "output_type": "execute_result"
    }
   ],
   "source": [
    "# 데이터를 10개 선택하여 평균값 구하기'시행을 10000회 반복한 결과를 더 평균한다\n",
    "np.random.seed(1)\n",
    "np.mean(calc_sample_mean(size = 10, n_trial = 10000))"
   ]
  },
  {
   "cell_type": "markdown",
   "metadata": {},
   "source": [
    "### 샘플 크기를 변경할 때의 샘플 평균 분포"
   ]
  },
  {
   "cell_type": "code",
   "execution_count": 17,
   "metadata": {
    "ExecuteTime": {
     "end_time": "2024-02-05T10:37:43.316223Z",
     "start_time": "2024-02-05T10:37:42.534832Z"
    }
   },
   "outputs": [
    {
     "name": "stdout",
     "output_type": "stream",
     "text": [
      "   sample_mean     size\n",
      "0     1.600572  size 10\n",
      "1     1.586082  size 10\n",
      "2     1.637383  size 10\n",
      "3     1.584285  size 10\n",
      "4     1.666164  size 10\n"
     ]
    }
   ],
   "source": [
    "np.random.seed(1)\n",
    "# 샘플 크기 10\n",
    "size_10 = calc_sample_mean(size = 10, n_trial = 10000)\n",
    "size_10_df = pd.DataFrame({\n",
    "    \"sample_mean\":size_10,\n",
    "    \"size\"       :np.tile(\"size 10\", 10000)\n",
    "})\n",
    "# 샘플 크기 20\n",
    "size_20 = calc_sample_mean(size = 20, n_trial = 10000)\n",
    "size_20_df = pd.DataFrame({\n",
    "    \"sample_mean\":size_20,\n",
    "    \"size\"       :np.tile(\"size 20\", 10000)\n",
    "})\n",
    "# 샘플 크기 30\n",
    "size_30 = calc_sample_mean(size = 30, n_trial = 10000)\n",
    "size_30_df = pd.DataFrame({\n",
    "    \"sample_mean\":size_30,\n",
    "    \"size\"       :np.tile(\"size 30\", 10000)\n",
    "})\n",
    "\n",
    "# 이어 붙이기\n",
    "sim_result = pd.concat(\n",
    "    [size_10_df, size_20_df, size_30_df])\n",
    "\n",
    "# 결과 표시\n",
    "print(sim_result.head())"
   ]
  },
  {
   "cell_type": "code",
   "execution_count": 18,
   "metadata": {
    "ExecuteTime": {
     "end_time": "2024-02-05T10:37:43.615736Z",
     "start_time": "2024-02-05T10:37:43.317365Z"
    },
    "scrolled": true
   },
   "outputs": [
    {
     "data": {
      "text/plain": [
       "<AxesSubplot: xlabel='size', ylabel='sample_mean'>"
      ]
     },
     "execution_count": 18,
     "metadata": {},
     "output_type": "execute_result"
    },
    {
     "data": {
      "image/png": "[encoded data removed]",
      "text/plain": [
       "<Figure size 432x288 with 1 Axes>"
      ]
     },
     "metadata": {
      "needs_background": "light"
     },
     "output_type": "display_data"
    }
   ],
   "source": [
    "sns.violinplot(x = \"size\", y = \"sample_mean\", \n",
    "               data = sim_result, color = 'gray')"
   ]
  },
  {
   "cell_type": "markdown",
   "metadata": {},
   "source": [
    "### 표본 평균의 표준 편차는 모 표준 편차보다 작습니다."
   ]
  },
  {
   "cell_type": "code",
   "execution_count": 19,
   "metadata": {
    "ExecuteTime": {
     "end_time": "2024-02-05T10:37:43.634423Z",
     "start_time": "2024-02-05T10:37:43.619025Z"
    }
   },
   "outputs": [
    {
     "data": {
      "text/plain": [
       "array([  2,   4,   6,   8,  10,  12,  14,  16,  18,  20,  22,  24,  26,\n",
       "        28,  30,  32,  34,  36,  38,  40,  42,  44,  46,  48,  50,  52,\n",
       "        54,  56,  58,  60,  62,  64,  66,  68,  70,  72,  74,  76,  78,\n",
       "        80,  82,  84,  86,  88,  90,  92,  94,  96,  98, 100])"
      ]
     },
     "execution_count": 19,
     "metadata": {},
     "output_type": "execute_result"
    }
   ],
   "source": [
    "# 샘플 사이즈를 2~100까지의 범위에서 2씩 변화시킨다\n",
    "\n",
    "size_array =  np.arange(\n",
    "    start = 2, stop = 102, step = 2)\n",
    "size_array"
   ]
  },
  {
   "cell_type": "code",
   "execution_count": 20,
   "metadata": {
    "ExecuteTime": {
     "end_time": "2024-02-05T10:37:43.649744Z",
     "start_time": "2024-02-05T10:37:43.638150Z"
    }
   },
   "outputs": [],
   "source": [
    "# \"표본 평균의 표준 편차\"를 저장하는 0 배열 만들기\n",
    "sample_mean_std_array = np.zeros(len(size_array))"
   ]
  },
  {
   "cell_type": "code",
   "execution_count": 21,
   "metadata": {
    "ExecuteTime": {
     "end_time": "2024-02-05T10:37:43.867233Z",
     "start_time": "2024-02-05T10:37:43.654637Z"
    }
   },
   "outputs": [],
   "source": [
    "# 표본 평균의 표준 편차를 계산하는 시도를 샘플 크기를 변경하면서 여러 번 실행\n",
    "np.random.seed(1)\n",
    "for i in range(0, len(size_array)):\n",
    "    sample_mean = calc_sample_mean(size =size_array[i], \n",
    "                                   n_trial = 100)\n",
    "    sample_mean_std_array[i] = np.std(sample_mean, \n",
    "                                      ddof = 1)"
   ]
  },
  {
   "cell_type": "code",
   "execution_count": 22,
   "metadata": {
    "ExecuteTime": {
     "end_time": "2024-02-05T10:37:44.000596Z",
     "start_time": "2024-02-05T10:37:43.870122Z"
    }
   },
   "outputs": [
    {
     "data": {
      "text/plain": [
       "Text(0, 0.5, 'mean_std value')"
      ]
     },
     "execution_count": 22,
     "metadata": {},
     "output_type": "execute_result"
    },
    {
     "data": {
      "image/png": "[encoded data removed]",
      "text/plain": [
       "<Figure size 432x288 with 1 Axes>"
      ]
     },
     "metadata": {
      "needs_background": "light"
     },
     "output_type": "display_data"
    }
   ],
   "source": [
    "plt.plot(size_array, sample_mean_std_array, \n",
    "         color = 'black')\n",
    "plt.xlabel(\"sample size\")\n",
    "plt.ylabel(\"mean_std value\")"
   ]
  },
  {
   "cell_type": "markdown",
   "metadata": {},
   "source": [
    "### 표준 오차"
   ]
  },
  {
   "cell_type": "code",
   "execution_count": 23,
   "metadata": {
    "ExecuteTime": {
     "end_time": "2024-02-05T10:37:44.016035Z",
     "start_time": "2024-02-05T10:37:44.002332Z"
    }
   },
   "outputs": [
    {
     "data": {
      "text/plain": [
       "array([0.141, 0.1  , 0.082, 0.071, 0.063, 0.058, 0.053, 0.05 , 0.047,\n",
       "       0.045, 0.043, 0.041, 0.039, 0.038, 0.037, 0.035, 0.034, 0.033,\n",
       "       0.032, 0.032, 0.031, 0.03 , 0.029, 0.029, 0.028, 0.028, 0.027,\n",
       "       0.027, 0.026, 0.026, 0.025, 0.025, 0.025, 0.024, 0.024, 0.024,\n",
       "       0.023, 0.023, 0.023, 0.022, 0.022, 0.022, 0.022, 0.021, 0.021,\n",
       "       0.021, 0.021, 0.02 , 0.02 , 0.02 ])"
      ]
     },
     "execution_count": 23,
     "metadata": {},
     "output_type": "execute_result"
    }
   ],
   "source": [
    "# 표본 평균의 이론적 값: 표준 오차\n",
    "standard_error = 0.2 / np.sqrt(size_array)\n",
    "standard_error"
   ]
  },
  {
   "cell_type": "code",
   "execution_count": 24,
   "metadata": {
    "ExecuteTime": {
     "end_time": "2024-02-05T10:37:44.184080Z",
     "start_time": "2024-02-05T10:37:44.018898Z"
    }
   },
   "outputs": [
    {
     "data": {
      "text/plain": [
       "Text(0, 0.5, 'mean_std value')"
      ]
     },
     "execution_count": 24,
     "metadata": {},
     "output_type": "execute_result"
    },
    {
     "data": {
      "image/png": "[encoded data removed]",
      "text/plain": [
       "<Figure size 432x288 with 1 Axes>"
      ]
     },
     "metadata": {
      "needs_background": "light"
     },
     "output_type": "display_data"
    }
   ],
   "source": [
    "plt.plot(size_array, sample_mean_std_array, \n",
    "         color = 'black')\n",
    "plt.plot(size_array, standard_error, \n",
    "         color = 'black', linestyle = 'dotted')\n",
    "\n",
    "plt.xlabel(\"sample size\")\n",
    "plt.ylabel(\"mean_std value\")"
   ]
  },
  {
   "cell_type": "markdown",
   "metadata": {},
   "source": [
    "### 표본 분산의 평균값은 모 분산에서 벗어난다"
   ]
  },
  {
   "cell_type": "code",
   "execution_count": 25,
   "metadata": {
    "ExecuteTime": {
     "end_time": "2024-02-05T10:37:44.199788Z",
     "start_time": "2024-02-05T10:37:44.186459Z"
    }
   },
   "outputs": [],
   "source": [
    "# 표본 분산을 저장하는 넣기\n",
    "sample_var_array = np.zeros(10000)"
   ]
  },
  {
   "cell_type": "code",
   "execution_count": 26,
   "metadata": {
    "ExecuteTime": {
     "end_time": "2024-02-05T10:37:44.602019Z",
     "start_time": "2024-02-05T10:37:44.201817Z"
    }
   },
   "outputs": [],
   "source": [
    "# \"데이터 10개를 선택하여 표본 분산 구하기\" 시도를 10000회 반복\n",
    "np.random.seed(1)\n",
    "for i in range(0, 10000):\n",
    "    sample = population.rvs(size = 10)\n",
    "    sample_var_array[i] = np.var(sample, ddof = 0)"
   ]
  },
  {
   "cell_type": "code",
   "execution_count": 27,
   "metadata": {
    "ExecuteTime": {
     "end_time": "2024-02-05T10:37:44.617442Z",
     "start_time": "2024-02-05T10:37:44.602019Z"
    }
   },
   "outputs": [
    {
     "data": {
      "text/plain": [
       "0.03591804298332563"
      ]
     },
     "execution_count": 27,
     "metadata": {},
     "output_type": "execute_result"
    }
   ],
   "source": [
    "# 표본 분산의 평균값\n",
    "np.mean(sample_var_array)"
   ]
  },
  {
   "cell_type": "markdown",
   "metadata": {},
   "source": [
    "### 불편 분산을 사용하면 바이어스(편향)가 사라진다"
   ]
  },
  {
   "cell_type": "code",
   "execution_count": 28,
   "metadata": {
    "ExecuteTime": {
     "end_time": "2024-02-05T10:37:45.017673Z",
     "start_time": "2024-02-05T10:37:44.618456Z"
    }
   },
   "outputs": [
    {
     "data": {
      "text/plain": [
       "0.03990893664813959"
      ]
     },
     "execution_count": 28,
     "metadata": {},
     "output_type": "execute_result"
    }
   ],
   "source": [
    "# \"불편 분산\"을 저장하는 0 배열 10000개 만들기\n",
    "unbias_var_array = np.zeros(10000)\n",
    "\n",
    "# 데이터를 10개 선택해 불편 분산을 구한다」시행을 10000회 반복\n",
    "\n",
    "np.random.seed(1)\n",
    "for i in range(0, 10000):\n",
    "    sample = population.rvs(size = 10)\n",
    "    unbias_var_array[i] = np.var(sample, ddof = 1)\n",
    "\n",
    "    #  불편 분산의 평균값\n",
    "np.mean(unbias_var_array)"
   ]
  },
  {
   "cell_type": "markdown",
   "metadata": {},
   "source": [
    "### 샘플 크기를 늘리면 불편 분산이 모 분산에 가까워집니다."
   ]
  },
  {
   "cell_type": "code",
   "execution_count": 29,
   "metadata": {
    "ExecuteTime": {
     "end_time": "2024-02-05T10:37:45.034423Z",
     "start_time": "2024-02-05T10:37:45.019497Z"
    },
    "scrolled": true
   },
   "outputs": [
    {
     "data": {
      "text/plain": [
       "array([    10,    110,    210, ...,  99810,  99910, 100010])"
      ]
     },
     "execution_count": 29,
     "metadata": {},
     "output_type": "execute_result"
    }
   ],
   "source": [
    "# 샘플 사이즈를 10~100100까지의 범위에서 100 간격 으로 변화시킨다\n",
    "size_array =  np.arange(\n",
    "    start = 10, stop = 100100, step = 100)\n",
    "size_array"
   ]
  },
  {
   "cell_type": "code",
   "execution_count": 30,
   "metadata": {
    "ExecuteTime": {
     "end_time": "2024-02-05T10:37:45.050845Z",
     "start_time": "2024-02-05T10:37:45.036851Z"
    }
   },
   "outputs": [],
   "source": [
    "# \"불편 분산\"을 0 배열 만들기 \n",
    "unbias_var_array_size = np.zeros(len(size_array))"
   ]
  },
  {
   "cell_type": "code",
   "execution_count": 31,
   "metadata": {
    "ExecuteTime": {
     "end_time": "2024-02-05T10:37:46.066601Z",
     "start_time": "2024-02-05T10:37:45.054224Z"
    }
   },
   "outputs": [],
   "source": [
    "# 샘플 사이즈를 바꾸면서 \"불편 분산을 구한다\"\n",
    "np.random.seed(1)\n",
    "for i in range(0, len(size_array)):\n",
    "    sample = population.rvs(size = size_array[i])\n",
    "    unbias_var_array_size[i] =  np.var(sample, ddof = 1)"
   ]
  },
  {
   "cell_type": "code",
   "execution_count": 32,
   "metadata": {
    "ExecuteTime": {
     "end_time": "2024-02-05T10:37:46.200294Z",
     "start_time": "2024-02-05T10:37:46.068258Z"
    },
    "scrolled": true
   },
   "outputs": [
    {
     "data": {
      "text/plain": [
       "Text(0, 0.5, 'unbias var')"
      ]
     },
     "execution_count": 32,
     "metadata": {},
     "output_type": "execute_result"
    },
    {
     "data": {
      "image/png": "[encoded data removed]",
      "text/plain": [
       "<Figure size 432x288 with 1 Axes>"
      ]
     },
     "metadata": {
      "needs_background": "light"
     },
     "output_type": "display_data"
    }
   ],
   "source": [
    "plt.plot(size_array, unbias_var_array_size, \n",
    "         color = 'black')\n",
    "plt.xlabel(\"sample size\")\n",
    "plt.ylabel(\"unbias var\")"
   ]
  },
  {
   "cell_type": "markdown",
   "metadata": {
    "collapsed": true
   },
   "source": [
    "### 중심극한정리"
   ]
  },
  {
   "cell_type": "markdown",
   "metadata": {},
   "source": [
    "확률론과 통계학에서 중심 극한 정리(中心 極限 定理, 영어: central limit theorem, 약자 CLT)는 동일한 확률분포를 가진 독립 확률 변수 n개의 평균의 분포는 n이 적당히 크다면 정규분포에 가까워진다는 정리이다."
   ]
  },
  {
   "cell_type": "code",
   "execution_count": 33,
   "metadata": {
    "ExecuteTime": {
     "end_time": "2024-02-05T10:37:51.052238Z",
     "start_time": "2024-02-05T10:37:46.201062Z"
    }
   },
   "outputs": [
    {
     "data": {
      "text/plain": [
       "<AxesSubplot: ylabel='Count'>"
      ]
     },
     "execution_count": 33,
     "metadata": {},
     "output_type": "execute_result"
    },
    {
     "data": {
      "image/png": "[encoded data removed]",
      "text/plain": [
       "<Figure size 432x288 with 1 Axes>"
      ]
     },
     "metadata": {
      "needs_background": "light"
     },
     "output_type": "display_data"
    }
   ],
   "source": [
    "# 샘플 크기 및 시도 횟수\n",
    "n_size  = 10000\n",
    "n_trial = 50000\n",
    "\n",
    "# 표면 1, 뒷면 0\n",
    "coin = np.array([0,1])\n",
    "\n",
    "# 코인을 던진 횟수\n",
    "count_coin = np.zeros(n_trial)\n",
    "\n",
    "# 동전을 n_size회 던지는 시도를 n_trial회 실시\n",
    "np.random.seed(1)\n",
    "for i in range(0, n_trial):\n",
    "    count_coin[i] = np.sum(\n",
    "        np.random.choice(coin, size = n_size, \n",
    "                         replace = True))\n",
    "# 히스토그램\n",
    "sns.histplot(count_coin, color = 'black')"
   ]
  }
 ],
 "metadata": {
  "kernelspec": {
   "display_name": "Python 3",
   "language": "python",
   "name": "python3"
  },
  "language_info": {
   "codemirror_mode": {
    "name": "ipython",
    "version": 3
   },
   "file_extension": ".py",
   "mimetype": "text/x-python",
   "name": "python",
   "nbconvert_exporter": "python",
   "pygments_lexer": "ipython3",
   "version": "3.8.5"
  },
  "latex_envs": {
   "LaTeX_envs_menu_present": true,
   "autoclose": false,
   "autocomplete": true,
   "bibliofile": "biblio.bib",
   "cite_by": "apalike",
   "current_citInitial": 1,
   "eqLabelWithNumbers": true,
   "eqNumInitial": 1,
   "hotkeys": {
    "equation": "Ctrl-E",
    "itemize": "Ctrl-I"
   },
   "labels_anchors": false,
   "latex_user_defs": false,
   "report_style_numbering": false,
   "user_envs_cfg": false
  }
 },
 "nbformat": 4,
 "nbformat_minor": 2
}
