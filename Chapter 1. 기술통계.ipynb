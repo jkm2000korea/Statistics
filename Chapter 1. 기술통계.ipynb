{
 "cells": [
  {
   "cell_type": "markdown",
   "metadata": {},
   "source": [
    "# 1. 통계기반 실무 데이터 분석\n",
    "\n",
    "## 1-1. 기술통계"
   ]
  },
  {
   "cell_type": "markdown",
   "metadata": {},
   "source": [
    "### 기초통계"
   ]
  },
  {
   "cell_type": "code",
   "execution_count": 1,
   "metadata": {
    "ExecuteTime": {
     "end_time": "2024-01-20T08:03:51.954142Z",
     "start_time": "2024-01-20T08:03:51.826911Z"
    }
   },
   "outputs": [],
   "source": [
    "# 필요한 패키지 불러오기\n",
    "\n",
    "import numpy as np\n",
    "import scipy as sp"
   ]
  },
  {
   "cell_type": "code",
   "execution_count": 2,
   "metadata": {
    "ExecuteTime": {
     "end_time": "2024-01-20T08:03:51.969159Z",
     "start_time": "2024-01-20T08:03:51.956145Z"
    }
   },
   "outputs": [
    {
     "name": "stdout",
     "output_type": "stream",
     "text": [
      "[0.123]\n"
     ]
    }
   ],
   "source": [
    "# 넘파이 소수점 자리수 세팅\n",
    "np.set_printoptions(precision=3, suppress=True) # 소수점 3자리까지 표현\n",
    "print(np.array([0.12345]))"
   ]
  },
  {
   "cell_type": "code",
   "execution_count": 3,
   "metadata": {
    "ExecuteTime": {
     "end_time": "2024-01-20T08:03:51.987479Z",
     "start_time": "2024-01-20T08:03:51.970142Z"
    }
   },
   "outputs": [
    {
     "data": {
      "text/plain": [
       "'%.3f'"
      ]
     },
     "execution_count": 3,
     "metadata": {},
     "output_type": "execute_result"
    }
   ],
   "source": [
    "# 파이썬 소수점 자리수 세팅\n",
    "%precision 3"
   ]
  },
  {
   "cell_type": "markdown",
   "metadata": {},
   "source": [
    "### 데이터"
   ]
  },
  {
   "cell_type": "code",
   "execution_count": 4,
   "metadata": {
    "ExecuteTime": {
     "end_time": "2024-01-20T08:03:52.003771Z",
     "start_time": "2024-01-20T08:03:51.989731Z"
    }
   },
   "outputs": [
    {
     "data": {
      "text/plain": [
       "array([ 1,  2,  3,  4,  5,  6,  7,  8,  9, 10])"
      ]
     },
     "execution_count": 4,
     "metadata": {},
     "output_type": "execute_result"
    }
   ],
   "source": [
    "data = np.array([1,2,3,4,5,6,7,8,9,10])\n",
    "data"
   ]
  },
  {
   "cell_type": "markdown",
   "metadata": {},
   "source": [
    "### 합계"
   ]
  },
  {
   "cell_type": "code",
   "execution_count": 5,
   "metadata": {
    "ExecuteTime": {
     "end_time": "2024-01-20T08:03:52.019794Z",
     "start_time": "2024-01-20T08:03:52.004853Z"
    }
   },
   "outputs": [
    {
     "data": {
      "text/plain": [
       "55"
      ]
     },
     "execution_count": 5,
     "metadata": {},
     "output_type": "execute_result"
    }
   ],
   "source": [
    "# 1. Numpy 모듈 활용\n",
    "\n",
    "np.sum(data)"
   ]
  },
  {
   "cell_type": "code",
   "execution_count": 6,
   "metadata": {
    "ExecuteTime": {
     "end_time": "2024-01-20T08:03:52.036439Z",
     "start_time": "2024-01-20T08:03:52.021197Z"
    }
   },
   "outputs": [
    {
     "data": {
      "text/plain": [
       "55"
      ]
     },
     "execution_count": 6,
     "metadata": {},
     "output_type": "execute_result"
    }
   ],
   "source": [
    "# 2. 데이터 자체 함수\n",
    "\n",
    "data.sum()"
   ]
  },
  {
   "cell_type": "code",
   "execution_count": 7,
   "metadata": {
    "ExecuteTime": {
     "end_time": "2024-01-20T08:03:52.052349Z",
     "start_time": "2024-01-20T08:03:52.037307Z"
    }
   },
   "outputs": [
    {
     "data": {
      "text/plain": [
       "55"
      ]
     },
     "execution_count": 7,
     "metadata": {},
     "output_type": "execute_result"
    }
   ],
   "source": [
    "# 3. 파이썬 내장함수\n",
    "\n",
    "sum(data)"
   ]
  },
  {
   "cell_type": "markdown",
   "metadata": {},
   "source": [
    "## 평균, 분산, 표준편차"
   ]
  },
  {
   "cell_type": "markdown",
   "metadata": {},
   "source": [
    "### 1. 모평균, 모분산, 모표준편차"
   ]
  },
  {
   "cell_type": "markdown",
   "metadata": {
    "ExecuteTime": {
     "end_time": "2022-09-16T06:36:57.655119Z",
     "start_time": "2022-09-16T06:36:57.647215Z"
    }
   },
   "source": [
    "모집단에서 조사하고자 하는 특성을 나타내는 확률변수를 라고 할 때,  \n",
    "평균, 분산, 표준편차를 각각 모평균, 모분산, 모표준편차라고 하며, 수식은 다음과 같습니다."
   ]
  },
  {
   "cell_type": "markdown",
   "metadata": {
    "ExecuteTime": {
     "end_time": "2022-09-16T06:36:57.655119Z",
     "start_time": "2022-09-16T06:36:57.647215Z"
    }
   },
   "source": [
    " - 모 평균 $\\mu = \\frac{X_1+X_2+X_3+. . .+Xn}{n}$   \n",
    " - 모 분산 $\\sigma^2 = \\frac{(X_1-\\mu)^2+(X_2-\\mu)^2+(X_3-\\mu)^2+. . .+(X_n-\\mu)^2}{n}$  \n",
    " - 모 표준편차 $\\sigma = \\sqrt{\\sigma^2}$"
   ]
  },
  {
   "cell_type": "markdown",
   "metadata": {},
   "source": [
    "### 2. 표본평균, 표본분산, 표본표준편차"
   ]
  },
  {
   "cell_type": "markdown",
   "metadata": {
    "ExecuteTime": {
     "end_time": "2022-09-16T06:51:36.000184Z",
     "start_time": "2022-09-16T06:51:35.992083Z"
    }
   },
   "source": [
    "모집단에서 임의추출한 크기가 n인 표본을 $X$ 이라고 할 때,  \n",
    "이 표본의 평균, 분산, 표준편차를 각각 표본 평균 $\\bar{X}$, 표본 분산 $S^2$, 표본 표준편차 $S$ 라고 하며, 수식은 다음과 같습니다."
   ]
  },
  {
   "cell_type": "markdown",
   "metadata": {},
   "source": [
    " - 표본 평균 $\\bar{X} = \\frac{X_1+X_2+X_3+. . .+X_n}{n}$  \n",
    " - 표본 분산 $S^2 = \\frac{\\sum\\limits_{i=1}^{n}(X_i-\\bar{X})^2}{n-1}$  \n",
    " - 표본 표준편차 $S = \\sqrt{S^2}$  "
   ]
  },
  {
   "cell_type": "markdown",
   "metadata": {},
   "source": [
    "### 2-1. 평균"
   ]
  },
  {
   "cell_type": "markdown",
   "metadata": {},
   "source": [
    "모평균\n",
    "${\\displaystyle {\\mu}={\\frac {1}{n}}\\cdot \\sum _{i=1}^{n}{X_{i}}}$  \n",
    "\n",
    "표본 평균\n",
    "${\\displaystyle {\\bar {X}}={\\frac {1}{n}}\\cdot \\sum _{i=1}^{n}{X_{i}}}$  "
   ]
  },
  {
   "cell_type": "markdown",
   "metadata": {},
   "source": [
    "표본평균은 샘플링을 할 때마다 다른 값이 나오므로 실제 모평균(mean of population)과 같을 수 없습니다.  \n",
    "표본평균들을 새로운 확률변수로 생각하고 이 값들의 평균을 구할 수 있는데,  \n",
    "이를 '표본평균의 평균(표본평균의 기댓값)'이라고 하며 이 값이 모평균과 같습니다."
   ]
  },
  {
   "cell_type": "code",
   "execution_count": 8,
   "metadata": {
    "ExecuteTime": {
     "end_time": "2024-01-20T08:03:52.069751Z",
     "start_time": "2024-01-20T08:03:52.054714Z"
    }
   },
   "outputs": [
    {
     "data": {
      "text/plain": [
       "10"
      ]
     },
     "execution_count": 8,
     "metadata": {},
     "output_type": "execute_result"
    }
   ],
   "source": [
    "# 샘플의 갯수\n",
    "\n",
    "n = len(data)\n",
    "n"
   ]
  },
  {
   "cell_type": "code",
   "execution_count": 9,
   "metadata": {
    "ExecuteTime": {
     "end_time": "2024-01-20T08:03:52.086469Z",
     "start_time": "2024-01-20T08:03:52.071973Z"
    }
   },
   "outputs": [
    {
     "data": {
      "text/plain": [
       "5.5"
      ]
     },
     "execution_count": 9,
     "metadata": {},
     "output_type": "execute_result"
    }
   ],
   "source": [
    "# 평균 = 합계 ÷ 갯수\n",
    "\n",
    "sum_value = np.sum(data)\n",
    "mu = sum_value / n\n",
    "mu"
   ]
  },
  {
   "cell_type": "code",
   "execution_count": 10,
   "metadata": {
    "ExecuteTime": {
     "end_time": "2024-01-20T08:03:52.102468Z",
     "start_time": "2024-01-20T08:03:52.086961Z"
    }
   },
   "outputs": [
    {
     "data": {
      "text/plain": [
       "5.5"
      ]
     },
     "execution_count": 10,
     "metadata": {},
     "output_type": "execute_result"
    }
   ],
   "source": [
    "# Numpy 모듈 mean 함수\n",
    "\n",
    "np.mean(data)"
   ]
  },
  {
   "cell_type": "markdown",
   "metadata": {},
   "source": [
    "### 표본 분산"
   ]
  },
  {
   "cell_type": "markdown",
   "metadata": {
    "ExecuteTime": {
     "end_time": "2022-09-21T07:24:41.066201Z",
     "start_time": "2022-09-21T07:24:40.981494Z"
    }
   },
   "source": [
    "${\\displaystyle {s^2 = \\frac{1}{n} \\sum_{i=1}^{n}(X_{i}-\\bar{X})}}$  "
   ]
  },
  {
   "cell_type": "code",
   "execution_count": 11,
   "metadata": {
    "ExecuteTime": {
     "end_time": "2024-01-20T08:03:52.119872Z",
     "start_time": "2024-01-20T08:03:52.104074Z"
    }
   },
   "outputs": [
    {
     "data": {
      "text/plain": [
       "array([-4.5, -3.5, -2.5, -1.5, -0.5,  0.5,  1.5,  2.5,  3.5,  4.5])"
      ]
     },
     "execution_count": 11,
     "metadata": {},
     "output_type": "execute_result"
    }
   ],
   "source": [
    "# 데이터 - 평균 = 편차\n",
    "data - mu"
   ]
  },
  {
   "cell_type": "code",
   "execution_count": 12,
   "metadata": {
    "ExecuteTime": {
     "end_time": "2024-01-20T08:03:52.136421Z",
     "start_time": "2024-01-20T08:03:52.120583Z"
    }
   },
   "outputs": [
    {
     "data": {
      "text/plain": [
       "array([20.25, 12.25,  6.25,  2.25,  0.25,  0.25,  2.25,  6.25, 12.25,\n",
       "       20.25])"
      ]
     },
     "execution_count": 12,
     "metadata": {},
     "output_type": "execute_result"
    }
   ],
   "source": [
    "# 편차의 제곱\n",
    "\n",
    "(data - mu) ** 2"
   ]
  },
  {
   "cell_type": "code",
   "execution_count": 13,
   "metadata": {
    "ExecuteTime": {
     "end_time": "2024-01-20T08:03:52.152111Z",
     "start_time": "2024-01-20T08:03:52.137071Z"
    }
   },
   "outputs": [
    {
     "data": {
      "text/plain": [
       "82.5"
      ]
     },
     "execution_count": 13,
     "metadata": {},
     "output_type": "execute_result"
    }
   ],
   "source": [
    "# 편차 제곱의 총합\n",
    "\n",
    "np.sum((data - mu) ** 2)"
   ]
  },
  {
   "cell_type": "code",
   "execution_count": 14,
   "metadata": {
    "ExecuteTime": {
     "end_time": "2024-01-20T08:03:52.169833Z",
     "start_time": "2024-01-20T08:03:52.154000Z"
    }
   },
   "outputs": [
    {
     "data": {
      "text/plain": [
       "10"
      ]
     },
     "execution_count": 14,
     "metadata": {},
     "output_type": "execute_result"
    }
   ],
   "source": [
    "# 샘플의 갯수\n",
    "\n",
    "n"
   ]
  },
  {
   "cell_type": "code",
   "execution_count": 15,
   "metadata": {
    "ExecuteTime": {
     "end_time": "2024-01-20T08:03:52.179203Z",
     "start_time": "2024-01-20T08:03:52.172281Z"
    }
   },
   "outputs": [
    {
     "data": {
      "text/plain": [
       "8.25"
      ]
     },
     "execution_count": 15,
     "metadata": {},
     "output_type": "execute_result"
    }
   ],
   "source": [
    "# 편차 제곱의 총합 / 샘플의 갯수\n",
    "\n",
    "np.sum((data - mu) ** 2) / n"
   ]
  },
  {
   "cell_type": "code",
   "execution_count": 16,
   "metadata": {
    "ExecuteTime": {
     "end_time": "2024-01-20T08:03:52.194680Z",
     "start_time": "2024-01-20T08:03:52.180659Z"
    }
   },
   "outputs": [
    {
     "data": {
      "text/plain": [
       "8.25"
      ]
     },
     "execution_count": 16,
     "metadata": {},
     "output_type": "execute_result"
    }
   ],
   "source": [
    "# 표본 분산 - 넘파이 함수로 간단히 계산\n",
    "unbiased_variance = np.var(data, ddof = 0)\n",
    "unbiased_variance"
   ]
  },
  {
   "cell_type": "markdown",
   "metadata": {},
   "source": [
    "### 불편분산"
   ]
  },
  {
   "cell_type": "markdown",
   "metadata": {
    "ExecuteTime": {
     "end_time": "2024-01-20T03:30:04.905482Z",
     "start_time": "2024-01-20T03:30:04.898761Z"
    }
   },
   "source": [
    "표본 분산은 표본의 평균(S) 를 사용. 표본은 샘플이 작으므로, 실제 흩어진 정도인 분산을 지나치게 작게 추정하는 현상이 나타남.  \n",
    "**따라서 불편분산을 사용**"
   ]
  },
  {
   "cell_type": "markdown",
   "metadata": {},
   "source": [
    "[표본분산과 불편분산에 대하여-1](https://1992jhlee.tistory.com/19)  \n",
    "[표본분산과 불편분산에 대하여-2](https://recipesds.tistory.com/entry/%EC%99%9C-%ED%91%9C%EB%B3%B8%EB%B6%84%EC%82%B0%EC%9D%80-n-1%EB%A1%9C-%EB%82%98%EB%88%84%EC%A3%A0-%EC%9E%90%EC%9C%A0%EB%8F%84-%EB%B6%88%ED%8E%B8%EC%B6%94%EC%A0%95%EB%9F%89%EC%97%90-%EB%8C%80%ED%95%9C-%EA%B3%A0%EB%B0%B1)"
   ]
  },
  {
   "cell_type": "markdown",
   "metadata": {},
   "source": [
    "${\\displaystyle {s^2 = \\frac{1}{n-1} \\sum_{i=1}^{n}(X_{i}-\\bar{X})}}$  "
   ]
  },
  {
   "cell_type": "code",
   "execution_count": 17,
   "metadata": {
    "ExecuteTime": {
     "end_time": "2024-01-20T08:03:52.209688Z",
     "start_time": "2024-01-20T08:03:52.195661Z"
    }
   },
   "outputs": [
    {
     "data": {
      "text/plain": [
       "9.166666666666666"
      ]
     },
     "execution_count": 17,
     "metadata": {},
     "output_type": "execute_result"
    }
   ],
   "source": [
    "# 불편분산 직접 계산\n",
    "N = len(data)\n",
    "\n",
    "biased_variance = np.sum((data - mu) ** 2) / (N - 1)\n",
    "biased_variance"
   ]
  },
  {
   "cell_type": "code",
   "execution_count": 18,
   "metadata": {
    "ExecuteTime": {
     "end_time": "2024-01-20T08:03:52.236315Z",
     "start_time": "2024-01-20T08:03:52.212670Z"
    }
   },
   "outputs": [
    {
     "data": {
      "text/plain": [
       "9.166666666666666"
      ]
     },
     "execution_count": 18,
     "metadata": {},
     "output_type": "execute_result"
    }
   ],
   "source": [
    "# 불편 분산 - 넘파이 함수로 간단히 계산\n",
    "np.var(data, ddof = 1)"
   ]
  },
  {
   "cell_type": "markdown",
   "metadata": {},
   "source": [
    "### 표준편차"
   ]
  },
  {
   "cell_type": "markdown",
   "metadata": {
    "ExecuteTime": {
     "end_time": "2024-01-20T03:33:50.478544Z",
     "start_time": "2024-01-20T03:33:50.468710Z"
    }
   },
   "source": [
    "### 표본 분산을 활용한 표준편차 계산"
   ]
  },
  {
   "cell_type": "code",
   "execution_count": 19,
   "metadata": {
    "ExecuteTime": {
     "end_time": "2024-01-20T08:03:52.242821Z",
     "start_time": "2024-01-20T08:03:52.237495Z"
    }
   },
   "outputs": [
    {
     "data": {
      "text/plain": [
       "8.25"
      ]
     },
     "execution_count": 19,
     "metadata": {},
     "output_type": "execute_result"
    }
   ],
   "source": [
    "# 표본 분산\n",
    "unbiased_variance"
   ]
  },
  {
   "cell_type": "code",
   "execution_count": 20,
   "metadata": {
    "ExecuteTime": {
     "end_time": "2024-01-20T08:03:52.253168Z",
     "start_time": "2024-01-20T08:03:52.244116Z"
    }
   },
   "outputs": [
    {
     "data": {
      "text/plain": [
       "2.8722813232690143"
      ]
     },
     "execution_count": 20,
     "metadata": {},
     "output_type": "execute_result"
    }
   ],
   "source": [
    "# 표준편차 - 넙파이 분산의 제곱근 # sd : standard_deviation\n",
    "sd = np.sqrt(unbiased_variance)\n",
    "sd"
   ]
  },
  {
   "cell_type": "code",
   "execution_count": 21,
   "metadata": {
    "ExecuteTime": {
     "end_time": "2024-01-20T08:03:52.268189Z",
     "start_time": "2024-01-20T08:03:52.254174Z"
    }
   },
   "outputs": [
    {
     "data": {
      "text/plain": [
       "2.8722813232690143"
      ]
     },
     "execution_count": 21,
     "metadata": {},
     "output_type": "execute_result"
    }
   ],
   "source": [
    "# 자유도=0 일때 std함수를 사용한 표준편차\n",
    "np.std(data, ddof = 0)"
   ]
  },
  {
   "cell_type": "markdown",
   "metadata": {},
   "source": [
    "### 불편 분산을 활용한 표준편차 계산"
   ]
  },
  {
   "cell_type": "code",
   "execution_count": 22,
   "metadata": {
    "ExecuteTime": {
     "end_time": "2024-01-20T08:03:52.283188Z",
     "start_time": "2024-01-20T08:03:52.270174Z"
    }
   },
   "outputs": [
    {
     "data": {
      "text/plain": [
       "9.166666666666666"
      ]
     },
     "execution_count": 22,
     "metadata": {},
     "output_type": "execute_result"
    }
   ],
   "source": [
    "# 불편 분산\n",
    "biased_variance"
   ]
  },
  {
   "cell_type": "code",
   "execution_count": 23,
   "metadata": {
    "ExecuteTime": {
     "end_time": "2024-01-20T08:03:52.298193Z",
     "start_time": "2024-01-20T08:03:52.286170Z"
    }
   },
   "outputs": [
    {
     "data": {
      "text/plain": [
       "3.0276503540974917"
      ]
     },
     "execution_count": 23,
     "metadata": {},
     "output_type": "execute_result"
    }
   ],
   "source": [
    "# 표준편차 - 넙파이 분산의 제곱근 # usd : unbiased_standard_deviation\n",
    "unbiased_std = np.sqrt(biased_variance)\n",
    "unbiased_std"
   ]
  },
  {
   "cell_type": "code",
   "execution_count": 24,
   "metadata": {
    "ExecuteTime": {
     "end_time": "2024-01-20T08:03:52.313025Z",
     "start_time": "2024-01-20T08:03:52.301227Z"
    }
   },
   "outputs": [
    {
     "data": {
      "text/plain": [
       "3.0276503540974917"
      ]
     },
     "execution_count": 24,
     "metadata": {},
     "output_type": "execute_result"
    }
   ],
   "source": [
    "# 자유도=1 일때 std함수를 사용한 표준편차\n",
    "np.std(data, ddof = 1)"
   ]
  },
  {
   "cell_type": "markdown",
   "metadata": {},
   "source": [
    "### 결국 no.std 함수에서 ddof 인자값이 0 : 표본분산에 의한 표준편차, 1 : 불편 분산에 의한 표준편차를 나타냄"
   ]
  },
  {
   "cell_type": "markdown",
   "metadata": {},
   "source": [
    "### 표준화"
   ]
  },
  {
   "cell_type": "code",
   "execution_count": 25,
   "metadata": {
    "ExecuteTime": {
     "end_time": "2024-01-20T08:03:52.328187Z",
     "start_time": "2024-01-20T08:03:52.316016Z"
    }
   },
   "outputs": [
    {
     "data": {
      "text/plain": [
       "array([ 1,  2,  3,  4,  5,  6,  7,  8,  9, 10])"
      ]
     },
     "execution_count": 25,
     "metadata": {},
     "output_type": "execute_result"
    }
   ],
   "source": [
    "data"
   ]
  },
  {
   "cell_type": "code",
   "execution_count": 26,
   "metadata": {
    "ExecuteTime": {
     "end_time": "2024-01-20T08:03:52.343652Z",
     "start_time": "2024-01-20T08:03:52.331190Z"
    }
   },
   "outputs": [],
   "source": [
    "# 데이터의 평균을 0으로 만드는 방법"
   ]
  },
  {
   "cell_type": "code",
   "execution_count": 27,
   "metadata": {
    "ExecuteTime": {
     "end_time": "2024-01-20T08:03:52.358939Z",
     "start_time": "2024-01-20T08:03:52.346645Z"
    }
   },
   "outputs": [
    {
     "data": {
      "text/plain": [
       "5.5"
      ]
     },
     "execution_count": 27,
     "metadata": {},
     "output_type": "execute_result"
    }
   ],
   "source": [
    "mu"
   ]
  },
  {
   "cell_type": "code",
   "execution_count": 28,
   "metadata": {
    "ExecuteTime": {
     "end_time": "2024-01-20T08:03:52.374428Z",
     "start_time": "2024-01-20T08:03:52.361928Z"
    }
   },
   "outputs": [
    {
     "data": {
      "text/plain": [
       "array([-4.5, -3.5, -2.5, -1.5, -0.5,  0.5,  1.5,  2.5,  3.5,  4.5])"
      ]
     },
     "execution_count": 28,
     "metadata": {},
     "output_type": "execute_result"
    }
   ],
   "source": [
    "# 데이터 에서 평균을 빼주기\n",
    "data - mu"
   ]
  },
  {
   "cell_type": "code",
   "execution_count": 29,
   "metadata": {
    "ExecuteTime": {
     "end_time": "2024-01-20T08:03:52.389598Z",
     "start_time": "2024-01-20T08:03:52.376407Z"
    }
   },
   "outputs": [
    {
     "data": {
      "text/plain": [
       "0.0"
      ]
     },
     "execution_count": 29,
     "metadata": {},
     "output_type": "execute_result"
    }
   ],
   "source": [
    "# 데이터의 평균 = 0\n",
    "np.mean(data - mu)"
   ]
  },
  {
   "cell_type": "code",
   "execution_count": 30,
   "metadata": {
    "ExecuteTime": {
     "end_time": "2024-01-20T08:03:52.403977Z",
     "start_time": "2024-01-20T08:03:52.392492Z"
    }
   },
   "outputs": [],
   "source": [
    "# 표준편차를 1로 만드는 방법"
   ]
  },
  {
   "cell_type": "code",
   "execution_count": 31,
   "metadata": {
    "ExecuteTime": {
     "end_time": "2024-01-20T08:03:52.419000Z",
     "start_time": "2024-01-20T08:03:52.407021Z"
    }
   },
   "outputs": [
    {
     "data": {
      "text/plain": [
       "3.0276503540974917"
      ]
     },
     "execution_count": 31,
     "metadata": {},
     "output_type": "execute_result"
    }
   ],
   "source": [
    "# 자유도=1 일때 std함수를 사용한 표준편차\n",
    "unbiased_std "
   ]
  },
  {
   "cell_type": "code",
   "execution_count": 32,
   "metadata": {
    "ExecuteTime": {
     "end_time": "2024-01-20T08:03:52.434148Z",
     "start_time": "2024-01-20T08:03:52.422131Z"
    }
   },
   "outputs": [
    {
     "data": {
      "text/plain": [
       "array([0.33 , 0.661, 0.991, 1.321, 1.651, 1.982, 2.312, 2.642, 2.973,\n",
       "       3.303])"
      ]
     },
     "execution_count": 32,
     "metadata": {},
     "output_type": "execute_result"
    }
   ],
   "source": [
    "# 데이터를 표준편차로 나눠주기\n",
    "data / unbiased_std"
   ]
  },
  {
   "cell_type": "code",
   "execution_count": 33,
   "metadata": {
    "ExecuteTime": {
     "end_time": "2024-01-20T08:03:52.449208Z",
     "start_time": "2024-01-20T08:03:52.438187Z"
    }
   },
   "outputs": [
    {
     "data": {
      "text/plain": [
       "1.0"
      ]
     },
     "execution_count": 33,
     "metadata": {},
     "output_type": "execute_result"
    }
   ],
   "source": [
    "np.std(data / unbiased_std, ddof = 1)"
   ]
  },
  {
   "cell_type": "code",
   "execution_count": 34,
   "metadata": {
    "ExecuteTime": {
     "end_time": "2024-01-20T08:03:52.464439Z",
     "start_time": "2024-01-20T08:03:52.452241Z"
    }
   },
   "outputs": [
    {
     "data": {
      "text/plain": [
       "array([-1.486, -1.156, -0.826, -0.495, -0.165,  0.165,  0.495,  0.826,\n",
       "        1.156,  1.486])"
      ]
     },
     "execution_count": 34,
     "metadata": {},
     "output_type": "execute_result"
    }
   ],
   "source": [
    "# 표준화 한 데이터\n",
    "standardization = (data - mu) / unbiased_std\n",
    "standardization"
   ]
  },
  {
   "cell_type": "code",
   "execution_count": 35,
   "metadata": {
    "ExecuteTime": {
     "end_time": "2024-01-20T08:03:52.479466Z",
     "start_time": "2024-01-20T08:03:52.467425Z"
    }
   },
   "outputs": [
    {
     "data": {
      "text/plain": [
       "0.0"
      ]
     },
     "execution_count": 35,
     "metadata": {},
     "output_type": "execute_result"
    }
   ],
   "source": [
    "np.round(np.mean(standardization), 3)"
   ]
  },
  {
   "cell_type": "code",
   "execution_count": 36,
   "metadata": {
    "ExecuteTime": {
     "end_time": "2024-01-20T08:03:52.491724Z",
     "start_time": "2024-01-20T08:03:52.482455Z"
    }
   },
   "outputs": [
    {
     "data": {
      "text/plain": [
       "1.0"
      ]
     },
     "execution_count": 36,
     "metadata": {},
     "output_type": "execute_result"
    }
   ],
   "source": [
    "np.std(standardization, ddof = 1)"
   ]
  },
  {
   "cell_type": "markdown",
   "metadata": {},
   "source": [
    "### 기초통계량"
   ]
  },
  {
   "cell_type": "code",
   "execution_count": 37,
   "metadata": {
    "ExecuteTime": {
     "end_time": "2024-01-20T08:03:52.506781Z",
     "start_time": "2024-01-20T08:03:52.493806Z"
    }
   },
   "outputs": [
    {
     "data": {
      "text/plain": [
       "10"
      ]
     },
     "execution_count": 37,
     "metadata": {},
     "output_type": "execute_result"
    }
   ],
   "source": [
    "# 최대값\n",
    "np.max(data)"
   ]
  },
  {
   "cell_type": "code",
   "execution_count": 38,
   "metadata": {
    "ExecuteTime": {
     "end_time": "2024-01-20T08:03:52.519911Z",
     "start_time": "2024-01-20T08:03:52.507837Z"
    }
   },
   "outputs": [
    {
     "data": {
      "text/plain": [
       "1"
      ]
     },
     "execution_count": 38,
     "metadata": {},
     "output_type": "execute_result"
    }
   ],
   "source": [
    "# 최소값\n",
    "np.min(data)"
   ]
  },
  {
   "cell_type": "code",
   "execution_count": 39,
   "metadata": {
    "ExecuteTime": {
     "end_time": "2024-01-20T08:03:52.536176Z",
     "start_time": "2024-01-20T08:03:52.520542Z"
    }
   },
   "outputs": [
    {
     "data": {
      "text/plain": [
       "5.5"
      ]
     },
     "execution_count": 39,
     "metadata": {},
     "output_type": "execute_result"
    }
   ],
   "source": [
    "#  중앙값\n",
    "np.median(data)"
   ]
  },
  {
   "cell_type": "code",
   "execution_count": 40,
   "metadata": {
    "ExecuteTime": {
     "end_time": "2024-01-20T08:03:52.552696Z",
     "start_time": "2024-01-20T08:03:52.537038Z"
    }
   },
   "outputs": [],
   "source": [
    "data_2 = np.array([2,3,3,4,4,4,4,5,5,100])"
   ]
  },
  {
   "cell_type": "code",
   "execution_count": 41,
   "metadata": {
    "ExecuteTime": {
     "end_time": "2024-01-20T08:03:52.569570Z",
     "start_time": "2024-01-20T08:03:52.554026Z"
    }
   },
   "outputs": [
    {
     "data": {
      "text/plain": [
       "13.4"
      ]
     },
     "execution_count": 41,
     "metadata": {},
     "output_type": "execute_result"
    }
   ],
   "source": [
    "np.mean(data_2)"
   ]
  },
  {
   "cell_type": "code",
   "execution_count": 42,
   "metadata": {
    "ExecuteTime": {
     "end_time": "2024-01-20T08:03:52.586125Z",
     "start_time": "2024-01-20T08:03:52.570373Z"
    }
   },
   "outputs": [
    {
     "data": {
      "text/plain": [
       "4.0"
      ]
     },
     "execution_count": 42,
     "metadata": {},
     "output_type": "execute_result"
    }
   ],
   "source": [
    "np.median(data_2)"
   ]
  },
  {
   "cell_type": "markdown",
   "metadata": {},
   "source": [
    "### scipy.stats 을 활용한 사분위값 "
   ]
  },
  {
   "cell_type": "code",
   "execution_count": 43,
   "metadata": {
    "ExecuteTime": {
     "end_time": "2024-01-20T08:03:52.885550Z",
     "start_time": "2024-01-20T08:03:52.590020Z"
    }
   },
   "outputs": [],
   "source": [
    "from scipy import stats"
   ]
  },
  {
   "cell_type": "code",
   "execution_count": 44,
   "metadata": {
    "ExecuteTime": {
     "end_time": "2024-01-20T08:03:52.902646Z",
     "start_time": "2024-01-20T08:03:52.887693Z"
    }
   },
   "outputs": [],
   "source": [
    "data_3 = np.array([1,2,3,4,5,6,7,8,9])"
   ]
  },
  {
   "cell_type": "code",
   "execution_count": 45,
   "metadata": {
    "ExecuteTime": {
     "end_time": "2024-01-20T08:03:52.914040Z",
     "start_time": "2024-01-20T08:03:52.905558Z"
    }
   },
   "outputs": [
    {
     "data": {
      "text/plain": [
       "3.0"
      ]
     },
     "execution_count": 45,
     "metadata": {},
     "output_type": "execute_result"
    }
   ],
   "source": [
    "stats.scoreatpercentile(data_3, 25)"
   ]
  },
  {
   "cell_type": "code",
   "execution_count": 46,
   "metadata": {
    "ExecuteTime": {
     "end_time": "2024-01-20T08:03:52.925782Z",
     "start_time": "2024-01-20T08:03:52.917047Z"
    }
   },
   "outputs": [
    {
     "data": {
      "text/plain": [
       "7.0"
      ]
     },
     "execution_count": 46,
     "metadata": {},
     "output_type": "execute_result"
    }
   ],
   "source": [
    "stats.scoreatpercentile(data_3, 75)"
   ]
  }
 ],
 "metadata": {
  "kernelspec": {
   "display_name": "Python 3",
   "language": "python",
   "name": "python3"
  },
  "language_info": {
   "codemirror_mode": {
    "name": "ipython",
    "version": 3
   },
   "file_extension": ".py",
   "mimetype": "text/x-python",
   "name": "python",
   "nbconvert_exporter": "python",
   "pygments_lexer": "ipython3",
   "version": "3.8.5"
  },
  "latex_envs": {
   "LaTeX_envs_menu_present": true,
   "autoclose": false,
   "autocomplete": true,
   "bibliofile": "biblio.bib",
   "cite_by": "apalike",
   "current_citInitial": 1,
   "eqLabelWithNumbers": true,
   "eqNumInitial": 1,
   "hotkeys": {
    "equation": "Ctrl-E",
    "itemize": "Ctrl-I"
   },
   "labels_anchors": false,
   "latex_user_defs": false,
   "report_style_numbering": false,
   "user_envs_cfg": false
  }
 },
 "nbformat": 4,
 "nbformat_minor": 2
}
