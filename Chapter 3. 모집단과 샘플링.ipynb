{
 "cells": [
  {
   "cell_type": "markdown",
   "metadata": {},
   "source": [
    "# Chapter 3. 모집단과 샘플링\n",
    "\n",
    "### 1. 모집단에서 표본 추출하기"
   ]
  },
  {
   "cell_type": "code",
   "execution_count": 1,
   "metadata": {
    "ExecuteTime": {
     "end_time": "2024-02-02T13:13:41.294864Z",
     "start_time": "2024-02-02T13:13:35.906358Z"
    }
   },
   "outputs": [],
   "source": [
    "# 필요한 패키지, 모듈 불러오기\n",
    "import numpy as np\n",
    "import pandas as pd\n",
    "import scipy as sp\n",
    "from scipy import stats\n",
    "\n",
    "# 시각화 모듈 불러오기\n",
    "from matplotlib import pyplot as plt\n",
    "import seaborn as sns\n",
    "sns.set()"
   ]
  },
  {
   "cell_type": "code",
   "execution_count": 6,
   "metadata": {
    "ExecuteTime": {
     "end_time": "2024-02-02T13:17:03.293195Z",
     "start_time": "2024-02-02T13:17:03.286508Z"
    }
   },
   "outputs": [],
   "source": [
    "%precision 2\n",
    "%matplotlib inline"
   ]
  },
  {
   "cell_type": "markdown",
   "metadata": {},
   "source": [
    "### 샘플링"
   ]
  },
  {
   "cell_type": "code",
   "execution_count": 10,
   "metadata": {
    "ExecuteTime": {
     "end_time": "2024-02-02T13:18:33.323017Z",
     "start_time": "2024-02-02T13:18:33.317019Z"
    }
   },
   "outputs": [],
   "source": [
    "import random\n",
    "mass_range = (1.7, 2.1)\n",
    "data_size = 5\n",
    "\n",
    "hr_ball_5 = [round(random.uniform(*mass_range), 2) for _ in range(data_size)]"
   ]
  },
  {
   "cell_type": "code",
   "execution_count": 11,
   "metadata": {
    "ExecuteTime": {
     "end_time": "2024-02-02T13:18:33.741048Z",
     "start_time": "2024-02-02T13:18:33.708585Z"
    }
   },
   "outputs": [
    {
     "data": {
      "text/plain": [
       "[1.76, 1.96, 1.76, 1.77, 1.81]"
      ]
     },
     "execution_count": 11,
     "metadata": {},
     "output_type": "execute_result"
    }
   ],
   "source": [
    "# 다섯 개의 홈럼볼\n",
    "\n",
    "hr_ball_5"
   ]
  },
  {
   "cell_type": "code",
   "execution_count": 12,
   "metadata": {
    "ExecuteTime": {
     "end_time": "2024-02-02T13:19:02.244209Z",
     "start_time": "2024-02-02T13:19:02.219055Z"
    }
   },
   "outputs": [
    {
     "data": {
      "text/plain": [
       "array([1.81])"
      ]
     },
     "execution_count": 12,
     "metadata": {},
     "output_type": "execute_result"
    }
   ],
   "source": [
    "# 랜덤으로 한 개 뽑기\n",
    "np.random.choice(hr_ball_5, size = 1, replace = False)"
   ]
  },
  {
   "cell_type": "code",
   "execution_count": 13,
   "metadata": {
    "ExecuteTime": {
     "end_time": "2024-02-02T13:19:13.914658Z",
     "start_time": "2024-02-02T13:19:13.893838Z"
    }
   },
   "outputs": [
    {
     "data": {
      "text/plain": [
       "array([1.81, 1.76, 1.96])"
      ]
     },
     "execution_count": 13,
     "metadata": {},
     "output_type": "execute_result"
    }
   ],
   "source": [
    "# 랜덤으로 세 개 뽑기\n",
    "np.random.choice(hr_ball_5, size = 3, replace = False)"
   ]
  },
  {
   "cell_type": "code",
   "execution_count": 14,
   "metadata": {
    "ExecuteTime": {
     "end_time": "2024-02-02T13:19:26.122969Z",
     "start_time": "2024-02-02T13:19:26.102672Z"
    }
   },
   "outputs": [
    {
     "data": {
      "text/plain": [
       "array([1.76, 1.81, 1.96])"
      ]
     },
     "execution_count": 14,
     "metadata": {},
     "output_type": "execute_result"
    }
   ],
   "source": [
    "# 랜덤으로 세 개 뽑기(다시 한번)\n",
    "np.random.choice(hr_ball_5, size = 3, replace = False)"
   ]
  },
  {
   "cell_type": "code",
   "execution_count": 15,
   "metadata": {
    "ExecuteTime": {
     "end_time": "2024-02-02T13:19:31.028585Z",
     "start_time": "2024-02-02T13:19:31.012026Z"
    }
   },
   "outputs": [
    {
     "data": {
      "text/plain": [
       "array([1.76, 1.96, 1.81])"
      ]
     },
     "execution_count": 15,
     "metadata": {},
     "output_type": "execute_result"
    }
   ],
   "source": [
    "# 랜덤시드 생성후, 랜덤으로 세 개 뽑기\n",
    "np.random.seed(1)\n",
    "np.random.choice(hr_ball_5, size = 3, replace = False)"
   ]
  },
  {
   "cell_type": "code",
   "execution_count": 16,
   "metadata": {
    "ExecuteTime": {
     "end_time": "2024-02-02T13:19:36.571748Z",
     "start_time": "2024-02-02T13:19:36.555046Z"
    }
   },
   "outputs": [
    {
     "data": {
      "text/plain": [
       "array([1.76, 1.96, 1.81])"
      ]
     },
     "execution_count": 16,
     "metadata": {},
     "output_type": "execute_result"
    }
   ],
   "source": [
    "# 동일한 랜덤시드(1) 생성후, 랜덤으로 세 개 뽑기\n",
    "np.random.seed(1)\n",
    "np.random.choice(hr_ball_5, size = 3, replace = False)"
   ]
  },
  {
   "cell_type": "code",
   "execution_count": 17,
   "metadata": {
    "ExecuteTime": {
     "end_time": "2024-02-02T13:19:41.240604Z",
     "start_time": "2024-02-02T13:19:41.236025Z"
    }
   },
   "outputs": [
    {
     "data": {
      "text/plain": [
       "1.843333333333333"
      ]
     },
     "execution_count": 17,
     "metadata": {},
     "output_type": "execute_result"
    }
   ],
   "source": [
    "# 랜덤시드 생성후, 랜덤으로 세 개 뽑기 -> 평균계산\n",
    "np.random.seed(1)\n",
    "np.mean(\n",
    "    np.random.choice(hr_ball_5, size = 3, replace = False)\n",
    ")"
   ]
  },
  {
   "cell_type": "markdown",
   "metadata": {},
   "source": [
    "### CSV 파일에서 100,000개 데이터 읽어오기"
   ]
  },
  {
   "cell_type": "code",
   "execution_count": 277,
   "metadata": {
    "ExecuteTime": {
     "end_time": "2024-02-02T14:08:48.140383Z",
     "start_time": "2024-02-02T14:08:48.104406Z"
    }
   },
   "outputs": [
    {
     "name": "stdout",
     "output_type": "stream",
     "text": [
      "데이터가 성공적으로 저장되었습니다.\n"
     ]
    }
   ],
   "source": [
    "import numpy as np\n",
    "import pandas as pd\n",
    "\n",
    "# 홈런볼 질량 데이터 생성\n",
    "np.random.seed(42)  # 재현성을 위해 시드 설정\n",
    "mean_mass = 1.62  # 평균 질량\n",
    "std_deviation = 0.2  # 표준 편차\n",
    "num_samples = 10000  # 데이터 개수\n",
    "\n",
    "# 정규분포를 따르는 홈런볼 질량 생성\n",
    "home_run_mass = np.random.normal(mean_mass, std_deviation, num_samples)\n",
    "\n",
    "# DataFrame 생성\n",
    "data = {'홈런볼 질량 (g)': home_run_mass}\n",
    "df = pd.DataFrame(data)\n",
    "\n",
    "# CSV 파일로 저장\n",
    "df.to_csv('home_run_mass_data.csv', index=False)\n",
    "\n",
    "print(\"데이터가 성공적으로 저장되었습니다.\")"
   ]
  },
  {
   "cell_type": "code",
   "execution_count": 278,
   "metadata": {
    "ExecuteTime": {
     "end_time": "2024-02-02T14:08:48.737913Z",
     "start_time": "2024-02-02T14:08:48.718531Z"
    }
   },
   "outputs": [
    {
     "data": {
      "text/html": [
       "<div>\n",
       "<style scoped>\n",
       "    .dataframe tbody tr th:only-of-type {\n",
       "        vertical-align: middle;\n",
       "    }\n",
       "\n",
       "    .dataframe tbody tr th {\n",
       "        vertical-align: top;\n",
       "    }\n",
       "\n",
       "    .dataframe thead th {\n",
       "        text-align: right;\n",
       "    }\n",
       "</style>\n",
       "<table border=\"1\" class=\"dataframe\">\n",
       "  <thead>\n",
       "    <tr style=\"text-align: right;\">\n",
       "      <th></th>\n",
       "      <th>홈런볼 질량 (g)</th>\n",
       "    </tr>\n",
       "  </thead>\n",
       "  <tbody>\n",
       "    <tr>\n",
       "      <th>0</th>\n",
       "      <td>1.71934</td>\n",
       "    </tr>\n",
       "    <tr>\n",
       "      <th>1</th>\n",
       "      <td>1.59235</td>\n",
       "    </tr>\n",
       "    <tr>\n",
       "      <th>2</th>\n",
       "      <td>1.74954</td>\n",
       "    </tr>\n",
       "    <tr>\n",
       "      <th>3</th>\n",
       "      <td>1.92461</td>\n",
       "    </tr>\n",
       "    <tr>\n",
       "      <th>4</th>\n",
       "      <td>1.57317</td>\n",
       "    </tr>\n",
       "    <tr>\n",
       "      <th>...</th>\n",
       "      <td>...</td>\n",
       "    </tr>\n",
       "    <tr>\n",
       "      <th>9995</th>\n",
       "      <td>1.88022</td>\n",
       "    </tr>\n",
       "    <tr>\n",
       "      <th>9996</th>\n",
       "      <td>1.22033</td>\n",
       "    </tr>\n",
       "    <tr>\n",
       "      <th>9997</th>\n",
       "      <td>1.47894</td>\n",
       "    </tr>\n",
       "    <tr>\n",
       "      <th>9998</th>\n",
       "      <td>1.71915</td>\n",
       "    </tr>\n",
       "    <tr>\n",
       "      <th>9999</th>\n",
       "      <td>1.74888</td>\n",
       "    </tr>\n",
       "  </tbody>\n",
       "</table>\n",
       "<p>10000 rows × 1 columns</p>\n",
       "</div>"
      ],
      "text/plain": [
       "      홈런볼 질량 (g)\n",
       "0        1.71934\n",
       "1        1.59235\n",
       "2        1.74954\n",
       "3        1.92461\n",
       "4        1.57317\n",
       "...          ...\n",
       "9995     1.88022\n",
       "9996     1.22033\n",
       "9997     1.47894\n",
       "9998     1.71915\n",
       "9999     1.74888\n",
       "\n",
       "[10000 rows x 1 columns]"
      ]
     },
     "execution_count": 278,
     "metadata": {},
     "output_type": "execute_result"
    }
   ],
   "source": [
    "df"
   ]
  },
  {
   "cell_type": "code",
   "execution_count": 279,
   "metadata": {
    "ExecuteTime": {
     "end_time": "2024-02-02T14:08:49.432921Z",
     "start_time": "2024-02-02T14:08:49.419481Z"
    },
    "scrolled": true
   },
   "outputs": [
    {
     "data": {
      "text/plain": [
       "0   1.71934\n",
       "1   1.59235\n",
       "2   1.74954\n",
       "3   1.92461\n",
       "4   1.57317\n",
       "Name: 홈런볼 질량 (g), dtype: float64"
      ]
     },
     "execution_count": 279,
     "metadata": {},
     "output_type": "execute_result"
    }
   ],
   "source": [
    "# 데이터 불러오기(열 지정해서 읽기)\n",
    "hr_ball_100000 = pd.read_csv(\n",
    "    \"home_run_mass_data.csv\")[\"홈런볼 질량 (g)\"]\n",
    "hr_ball_100000.head()"
   ]
  },
  {
   "cell_type": "code",
   "execution_count": 280,
   "metadata": {
    "ExecuteTime": {
     "end_time": "2024-02-02T14:08:50.001595Z",
     "start_time": "2024-02-02T14:08:49.989777Z"
    }
   },
   "outputs": [
    {
     "data": {
      "text/plain": [
       "10000"
      ]
     },
     "execution_count": 280,
     "metadata": {},
     "output_type": "execute_result"
    }
   ],
   "source": [
    "# 데이터 갯수 확인\n",
    "len(hr_ball_100000)"
   ]
  },
  {
   "cell_type": "code",
   "execution_count": 281,
   "metadata": {
    "ExecuteTime": {
     "end_time": "2024-02-02T14:08:50.655187Z",
     "start_time": "2024-02-02T14:08:50.638656Z"
    }
   },
   "outputs": [
    {
     "data": {
      "text/plain": [
       "array([1.75809, 1.94519, 1.54133, 1.58073, 1.3613 , 1.7302 , 1.42133,\n",
       "       1.65286, 1.42898, 0.98591])"
      ]
     },
     "execution_count": 281,
     "metadata": {},
     "output_type": "execute_result"
    }
   ],
   "source": [
    "# 해당 데이터에서 10개 샘플링. 비복원 추출(replace = False)\n",
    "sampling_result = np.random.choice(\n",
    "    hr_ball_100000, size = 10, replace = False)\n",
    "sampling_result"
   ]
  },
  {
   "cell_type": "code",
   "execution_count": 282,
   "metadata": {
    "ExecuteTime": {
     "end_time": "2024-02-02T14:08:51.219592Z",
     "start_time": "2024-02-02T14:08:51.208308Z"
    }
   },
   "outputs": [
    {
     "data": {
      "text/plain": [
       "1.5405925562631828"
      ]
     },
     "execution_count": 282,
     "metadata": {},
     "output_type": "execute_result"
    }
   ],
   "source": [
    "# 표본평균\n",
    "np.mean(sampling_result)"
   ]
  },
  {
   "cell_type": "markdown",
   "metadata": {},
   "source": [
    "### 모집단 분포"
   ]
  },
  {
   "cell_type": "code",
   "execution_count": 283,
   "metadata": {
    "ExecuteTime": {
     "end_time": "2024-02-02T14:08:52.123106Z",
     "start_time": "2024-02-02T14:08:52.107565Z"
    },
    "scrolled": false
   },
   "outputs": [
    {
     "data": {
      "text/plain": [
       "1.6195728033263148"
      ]
     },
     "execution_count": 283,
     "metadata": {},
     "output_type": "execute_result"
    }
   ],
   "source": [
    "np.mean(hr_ball_100000)"
   ]
  },
  {
   "cell_type": "markdown",
   "metadata": {},
   "source": [
    "### ddof 인자값"
   ]
  },
  {
   "cell_type": "markdown",
   "metadata": {},
   "source": [
    "ddof인수란 표본표준편차 계산에 사용되는 분모인 n-ddof 값을 말합니다.  \n",
    "이는 자유도 라고 하며 모표준편차와 표본 표준편차에서 반드시 발생하는 괴리율을 줄이기 위해 사용됩니다.\n",
    "\n",
    "numpy.std의 ddof 는 n에서 몇을 뺀 값으로 나눌 것인가를 의미한다\n",
    "(기본값 = 0, ddof =1은 (n-1)로 나눌 것을 의미함"
   ]
  },
  {
   "cell_type": "markdown",
   "metadata": {},
   "source": [
    "### 자유도"
   ]
  },
  {
   "cell_type": "markdown",
   "metadata": {},
   "source": [
    "자유도란 통계적 추정을 할 때 표본자료 중 모집단에 대한 정보를 주는 독립적인 자료의 수를 말합니다.  \n",
    "표본표준편차는 정규분포를 그리는 모 표준편차에 비해서 더 좁은 분산값을 갖기 때문에 n이 아닌 n-1로 나누어줍니다.  \n",
    "\n",
    "추정량에 대한 증명시 표본분산을 구할 때 n-1로 나누면 정확히 σ²가 나오며\n",
    "이는 n보다 n-1이 더 값의 정확도가 높음을 의미합니다."
   ]
  },
  {
   "cell_type": "markdown",
   "metadata": {},
   "source": [
    "자유도에 따라 변하는 값을 보겠습니다. 열당 값은 4개로 즉, n이 4이기 때문에 4부터는 값/0이기때문에 값의 지정이 불가해집니다.\n",
    "자유도가 증가할 수록 표본 표준편차가 넓어지는것을 확인할 수 있습니다."
   ]
  },
  {
   "cell_type": "markdown",
   "metadata": {},
   "source": [
    "https://wikidocs.net/155511"
   ]
  },
  {
   "cell_type": "code",
   "execution_count": 284,
   "metadata": {
    "ExecuteTime": {
     "end_time": "2024-02-02T14:08:54.005716Z",
     "start_time": "2024-02-02T14:08:53.997477Z"
    }
   },
   "outputs": [
    {
     "data": {
      "text/plain": [
       "0.20"
      ]
     },
     "execution_count": 284,
     "metadata": {},
     "output_type": "execute_result"
    }
   ],
   "source": [
    "np.std(hr_ball_100000, ddof = 0)"
   ]
  },
  {
   "cell_type": "markdown",
   "metadata": {},
   "source": [
    "* numpy의 std는 모 표준편차(ddof=0)를 default로 한다. n-0\n",
    "* pandas의 std는 표본 표준편차(ddof=1)를 default로 한다. n-1"
   ]
  },
  {
   "cell_type": "code",
   "execution_count": 285,
   "metadata": {
    "ExecuteTime": {
     "end_time": "2024-02-02T14:08:54.644668Z",
     "start_time": "2024-02-02T14:08:54.628018Z"
    },
    "scrolled": true
   },
   "outputs": [
    {
     "data": {
      "text/plain": [
       "0.04"
      ]
     },
     "execution_count": 285,
     "metadata": {},
     "output_type": "execute_result"
    }
   ],
   "source": [
    "np.var(hr_ball_100000, ddof = 0)"
   ]
  },
  {
   "cell_type": "code",
   "execution_count": 286,
   "metadata": {
    "ExecuteTime": {
     "end_time": "2024-02-02T14:08:55.366725Z",
     "start_time": "2024-02-02T14:08:55.138618Z"
    }
   },
   "outputs": [
    {
     "data": {
      "text/plain": [
       "<seaborn.axisgrid.FacetGrid at 0x1cf453cc370>"
      ]
     },
     "execution_count": 286,
     "metadata": {},
     "output_type": "execute_result"
    },
    {
     "data": {
      "image/png": "[encoded data removed]",
      "text/plain": [
       "<Figure size 500x500 with 1 Axes>"
      ]
     },
     "metadata": {},
     "output_type": "display_data"
    }
   ],
   "source": [
    "#  그래프 기본 스타일 설정\n",
    "plt.style.use('default')\n",
    "\n",
    "# 그래프 크기\n",
    "plt.rcParams['figure.figsize'] = (15, 4)\n",
    "\n",
    "# 그래프 사이즈\n",
    "plt.rcParams['font.size'] = 12\n",
    "\n",
    "# 한글폰트\n",
    "plt.rcParams['font.family'] ='NanumGothic'\n",
    "sns.displot(hr_ball_100000, kde = False, color = 'skyblue')"
   ]
  },
  {
   "cell_type": "markdown",
   "metadata": {},
   "source": [
    "질량 평균이 1.62 g, 분산이 0.1인정규분포로 파악 가능합니다.  \n",
    "모집단 전수조사를 하지 않고서도 분포에 대해 알 수 있게 됩니다."
   ]
  },
  {
   "cell_type": "markdown",
   "metadata": {},
   "source": [
    "### 모집단 분포와 정규분포 간 확률 밀도 함수 비교"
   ]
  },
  {
   "cell_type": "code",
   "execution_count": 304,
   "metadata": {
    "ExecuteTime": {
     "end_time": "2024-02-02T14:10:42.179880Z",
     "start_time": "2024-02-02T14:10:42.173904Z"
    }
   },
   "outputs": [
    {
     "data": {
      "text/plain": [
       "array([1.  , 1.01, 1.02, 1.03, 1.04, 1.05, 1.06, 1.07, 1.08, 1.09, 1.1 ,\n",
       "       1.11, 1.12, 1.13, 1.14, 1.15, 1.16, 1.17, 1.18, 1.19, 1.2 , 1.21,\n",
       "       1.22, 1.23, 1.24, 1.25, 1.26, 1.27, 1.28, 1.29, 1.3 , 1.31, 1.32,\n",
       "       1.33, 1.34, 1.35, 1.36, 1.37, 1.38, 1.39, 1.4 , 1.41, 1.42, 1.43,\n",
       "       1.44, 1.45, 1.46, 1.47, 1.48, 1.49, 1.5 , 1.51, 1.52, 1.53, 1.54,\n",
       "       1.55, 1.56, 1.57, 1.58, 1.59, 1.6 , 1.61, 1.62, 1.63, 1.64, 1.65,\n",
       "       1.66, 1.67, 1.68, 1.69, 1.7 , 1.71, 1.72, 1.73, 1.74, 1.75, 1.76,\n",
       "       1.77, 1.78, 1.79, 1.8 , 1.81, 1.82, 1.83, 1.84, 1.85, 1.86, 1.87,\n",
       "       1.88, 1.89, 1.9 , 1.91, 1.92, 1.93, 1.94, 1.95, 1.96, 1.97, 1.98,\n",
       "       1.99, 2.  , 2.01, 2.02, 2.03, 2.04, 2.05, 2.06, 2.07, 2.08, 2.09,\n",
       "       2.1 , 2.11, 2.12, 2.13, 2.14, 2.15, 2.16, 2.17, 2.18, 2.19, 2.2 ,\n",
       "       2.21, 2.22, 2.23, 2.24, 2.25, 2.26, 2.27, 2.28, 2.29])"
      ]
     },
     "execution_count": 304,
     "metadata": {},
     "output_type": "execute_result"
    }
   ],
   "source": [
    "# 질량 평균이 1.62 g, 분산이 0.16인 정규분포의 확률밀도 함수 비교\n",
    "\n",
    "# 우선 1부터 10까지 0.1 단위 등차수열을 생성\n",
    "x = np.arange(start = 1.0, stop = 2.3, step = 0.01)\n",
    "x"
   ]
  },
  {
   "cell_type": "code",
   "execution_count": 305,
   "metadata": {
    "ExecuteTime": {
     "end_time": "2024-02-02T14:10:42.391959Z",
     "start_time": "2024-02-02T14:10:42.359114Z"
    }
   },
   "outputs": [
    {
     "data": {
      "text/plain": [
       "array([0.01633, 0.01905, 0.02216, 0.02571, 0.02976, 0.03436, 0.03958,\n",
       "       0.04547, 0.0521 , 0.05956, 0.06791, 0.07725, 0.08764, 0.09919,\n",
       "       0.11197, 0.12609, 0.14164, 0.1587 , 0.17737, 0.19775, 0.21992,\n",
       "       0.24396, 0.26995, 0.29797, 0.32808, 0.36032, 0.39475, 0.43139,\n",
       "       0.47025, 0.51132, 0.5546 , 0.60005, 0.64759, 0.69715, 0.74864,\n",
       "       0.80192, 0.85684, 0.91325, 0.97093, 1.02968, 1.08926, 1.14941,\n",
       "       1.20985, 1.2703 , 1.33043, 1.38992, 1.44846, 1.50569, 1.56127,\n",
       "       1.61486, 1.66612, 1.71472, 1.76033, 1.80263, 1.84135, 1.8762 ,\n",
       "       1.90694, 1.93334, 1.95521, 1.9724 , 1.98476, 1.99222, 1.99471,\n",
       "       1.99222, 1.98476, 1.9724 , 1.95521, 1.93334, 1.90694, 1.8762 ,\n",
       "       1.84135, 1.80263, 1.76033, 1.71472, 1.66612, 1.61486, 1.56127,\n",
       "       1.50569, 1.44846, 1.38992, 1.33043, 1.2703 , 1.20985, 1.14941,\n",
       "       1.08926, 1.02968, 0.97093, 0.91325, 0.85684, 0.80192, 0.74864,\n",
       "       0.69715, 0.64759, 0.60005, 0.5546 , 0.51132, 0.47025, 0.43139,\n",
       "       0.39475, 0.36032, 0.32808, 0.29797, 0.26995, 0.24396, 0.21992,\n",
       "       0.19775, 0.17737, 0.1587 , 0.14164, 0.12609, 0.11197, 0.09919,\n",
       "       0.08764, 0.07725, 0.06791, 0.05956, 0.0521 , 0.04547, 0.03958,\n",
       "       0.03436, 0.02976, 0.02571, 0.02216, 0.01905, 0.01633, 0.01397,\n",
       "       0.01192, 0.01015, 0.00861, 0.00729])"
      ]
     },
     "execution_count": 305,
     "metadata": {},
     "output_type": "execute_result"
    }
   ],
   "source": [
    "# 확률 밀도 함수 계산. stats.norm.pdf\n",
    "# loc = 평균, scale = 표준편차. 위의 데이터에서 분산 σ²이 0.04이므로, 표준편차 σ = 0.2  일때 σ²=0.2x 0.2= 0.04\n",
    "\n",
    "stats.norm.pdf(x = x, loc = 1.62, scale = 0.2)"
   ]
  },
  {
   "cell_type": "code",
   "execution_count": 306,
   "metadata": {
    "ExecuteTime": {
     "end_time": "2024-02-02T14:10:42.757788Z",
     "start_time": "2024-02-02T14:10:42.624123Z"
    },
    "scrolled": true
   },
   "outputs": [
    {
     "data": {
      "text/plain": [
       "[<matplotlib.lines.Line2D at 0x1cf51896970>]"
      ]
     },
     "execution_count": 306,
     "metadata": {},
     "output_type": "execute_result"
    },
    {
     "data": {
      "image/png": "[encoded data removed]",
      "text/plain": [
       "<Figure size 1500x400 with 1 Axes>"
      ]
     },
     "metadata": {},
     "output_type": "display_data"
    }
   ],
   "source": [
    "# 확률밀도 함수를 그래프로 표현\n",
    "\n",
    "plt.plot(x, \n",
    "         stats.norm.pdf(x = x, loc = 1.62, scale = 0.2), \n",
    "         color = 'black')"
   ]
  },
  {
   "cell_type": "code",
   "execution_count": 307,
   "metadata": {
    "ExecuteTime": {
     "end_time": "2024-02-02T14:10:43.223587Z",
     "start_time": "2024-02-02T14:10:42.987159Z"
    },
    "scrolled": false
   },
   "outputs": [
    {
     "data": {
      "text/plain": [
       "[<matplotlib.lines.Line2D at 0x1cf518ce970>]"
      ]
     },
     "execution_count": 307,
     "metadata": {},
     "output_type": "execute_result"
    },
    {
     "data": {
      "image/png": "[encoded data removed]",
      "text/plain": [
       "<Figure size 500x500 with 1 Axes>"
      ]
     },
     "metadata": {},
     "output_type": "display_data"
    }
   ],
   "source": [
    "# 정규분포의 확률밀도와 모집단의 히스토그램 그래프 겹쳐 그리기\n",
    "sns.displot(hr_ball_100000, kde = False, \n",
    "             stat=\"density\", color = 'black') # stat=\"density\" 는 전체 면적이 1이 되는 히스토 그램을 의미합니다.\n",
    "plt.plot(x, \n",
    "         stats.norm.pdf(x = x, loc = 1.62, scale = 0.2), \n",
    "         color = 'red')"
   ]
  },
  {
   "cell_type": "markdown",
   "metadata": {},
   "source": [
    "### 모집단에서 표본을 추출하는 프로세스"
   ]
  },
  {
   "cell_type": "code",
   "execution_count": 308,
   "metadata": {
    "ExecuteTime": {
     "end_time": "2024-02-02T14:10:54.301641Z",
     "start_time": "2024-02-02T14:10:54.284964Z"
    }
   },
   "outputs": [
    {
     "data": {
      "text/plain": [
       "array([1.85852, 1.38073, 1.15671, 1.74457, 1.55923, 1.57647, 1.5571 ,\n",
       "       1.66633, 1.46946, 1.91522])"
      ]
     },
     "execution_count": 308,
     "metadata": {},
     "output_type": "execute_result"
    }
   ],
   "source": [
    "# 모집단 : 평균 4, 분산 0.64인 정규분포\n",
    "\n",
    "# 모집단에서 표본을 추출할 때 정규분포를 따르는 표본 추출 함수 stats.norm.rvs\n",
    "sampling_norm = stats.norm.rvs(\n",
    "    loc = 1.62, scale = 0.2, size = 10) # loc 평균, scale 표준편차, size 샘플사이즈\n",
    "\n",
    "sampling_norm # 실행할 때마다 변경됨(램덤)"
   ]
  },
  {
   "cell_type": "code",
   "execution_count": 309,
   "metadata": {
    "ExecuteTime": {
     "end_time": "2024-02-02T14:10:55.115288Z",
     "start_time": "2024-02-02T14:10:55.107310Z"
    }
   },
   "outputs": [
    {
     "data": {
      "text/plain": [
       "1.5884345912302618"
      ]
     },
     "execution_count": 309,
     "metadata": {},
     "output_type": "execute_result"
    }
   ],
   "source": [
    "# 샘플링 된 표본의 평균\n",
    "np.set_printoptions(formatter={'float_kind': lambda x: \"{0:0.3f}\".format(x)})\n",
    "np.mean(sampling_norm, )"
   ]
  },
  {
   "cell_type": "code",
   "execution_count": 310,
   "metadata": {
    "ExecuteTime": {
     "end_time": "2024-02-02T14:10:55.615349Z",
     "start_time": "2024-02-02T14:10:55.602278Z"
    }
   },
   "outputs": [
    {
     "data": {
      "text/plain": [
       "array(1.588)"
      ]
     },
     "execution_count": 310,
     "metadata": {},
     "output_type": "execute_result"
    }
   ],
   "source": [
    "# 샘플링 된 표본의 평균\n",
    "np.set_printoptions(precision=3, suppress=False) # 소수점 3자리까지 표현 # 지수표현식(과학적표기법) 없애기\n",
    "np.array(np.mean(sampling_norm))"
   ]
  },
  {
   "cell_type": "code",
   "execution_count": 311,
   "metadata": {
    "ExecuteTime": {
     "end_time": "2024-02-02T14:10:56.057630Z",
     "start_time": "2024-02-02T14:10:56.027044Z"
    }
   },
   "outputs": [
    {
     "data": {
      "text/plain": [
       "array([1.23457])"
      ]
     },
     "execution_count": 311,
     "metadata": {},
     "output_type": "execute_result"
    }
   ],
   "source": [
    "np.set_printoptions(precision=5)\n",
    "np.array([1.23456789])"
   ]
  },
  {
   "cell_type": "code",
   "execution_count": 312,
   "metadata": {
    "ExecuteTime": {
     "end_time": "2024-02-02T14:10:56.573334Z",
     "start_time": "2024-02-02T14:10:56.563410Z"
    }
   },
   "outputs": [],
   "source": [
    "#지수표현식 없애기 \n",
    "pd.options.display.float_format = '{:.5f}'.format"
   ]
  }
 ],
 "metadata": {
  "kernelspec": {
   "display_name": "Python 3",
   "language": "python",
   "name": "python3"
  },
  "language_info": {
   "codemirror_mode": {
    "name": "ipython",
    "version": 3
   },
   "file_extension": ".py",
   "mimetype": "text/x-python",
   "name": "python",
   "nbconvert_exporter": "python",
   "pygments_lexer": "ipython3",
   "version": "3.8.5"
  },
  "latex_envs": {
   "LaTeX_envs_menu_present": true,
   "autoclose": false,
   "autocomplete": true,
   "bibliofile": "biblio.bib",
   "cite_by": "apalike",
   "current_citInitial": 1,
   "eqLabelWithNumbers": true,
   "eqNumInitial": 1,
   "hotkeys": {
    "equation": "Ctrl-E",
    "itemize": "Ctrl-I"
   },
   "labels_anchors": false,
   "latex_user_defs": false,
   "report_style_numbering": false,
   "user_envs_cfg": false
  }
 },
 "nbformat": 4,
 "nbformat_minor": 2
}
