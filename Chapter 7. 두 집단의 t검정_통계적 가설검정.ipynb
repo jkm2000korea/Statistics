{
 "cells": [
  {
   "cell_type": "markdown",
   "metadata": {},
   "source": [
    "# Chapter 7. 두 집단의 t검정 "
   ]
  },
  {
   "cell_type": "markdown",
   "metadata": {
    "ExecuteTime": {
     "end_time": "2022-12-30T04:58:06.016244Z",
     "start_time": "2022-12-30T04:58:06.000618Z"
    }
   },
   "source": [
    "t검정 종류\n",
    "1. 대응표본 t검정(영어로는 Paired t-Test)\n",
    "   : 사전 vs 사후 비교  \n",
    "     동일한 대상에게 실험을 하고, 실험 전과 후에 결과가 차이가 있는지를 알아보는 방법  \n",
    "     \n",
    "       \n",
    "       \n",
    "2. 독립표본 t검정(영어로는 Independent t-Test)  \n",
    "   : 서로 다른 두 집단 비교, 서로 다른 두 집단에서 뽑은 표본 간에 나타난 차이가 의미가 있는지를 알아보는 방법"
   ]
  },
  {
   "cell_type": "markdown",
   "metadata": {},
   "source": [
    "### 대응표본 t검정(약을 먹기 전후 검증)"
   ]
  },
  {
   "cell_type": "markdown",
   "metadata": {
    "ExecuteTime": {
     "end_time": "2022-12-30T05:10:38.917138Z",
     "start_time": "2022-12-30T05:10:38.905138Z"
    }
   },
   "source": [
    "예를 들어보는 방법이 가장 좋습니다.\n",
    "예를 들어, 같은 사람에게 신약을 먹게 하고 약을 먹기 전과 후의 고협압을 측정. 실제 피실험군 알바 경험"
   ]
  },
  {
   "cell_type": "code",
   "execution_count": 29,
   "metadata": {
    "ExecuteTime": {
     "end_time": "2024-02-08T13:10:39.890765Z",
     "start_time": "2024-02-08T13:10:39.882033Z"
    }
   },
   "outputs": [],
   "source": [
    "# 필요한 패키지, 모듈 불러오기\n",
    "import numpy as np\n",
    "import pandas as pd\n",
    "import scipy as sp\n",
    "from scipy import stats\n",
    "\n",
    "# 시각화 모듈 불러오기\n",
    "from matplotlib import pyplot as plt\n",
    "import seaborn as sns\n",
    "sns.set()\n",
    "\n",
    "# 소수점 3자리 설정\n",
    "%precision 3\n",
    "# 시각화\n",
    "%matplotlib inline"
   ]
  },
  {
   "cell_type": "code",
   "execution_count": 30,
   "metadata": {
    "ExecuteTime": {
     "end_time": "2024-02-08T13:10:40.259727Z",
     "start_time": "2024-02-08T13:10:40.233141Z"
    },
    "scrolled": true
   },
   "outputs": [
    {
     "name": "stdout",
     "output_type": "stream",
     "text": [
      "     Person Medicine  Blood Pressure\n",
      "0         1    after             123\n",
      "1         2    after             100\n",
      "2         3   before             113\n",
      "3         4   before             118\n",
      "4         5   before             120\n",
      "..      ...      ...             ...\n",
      "195     196   before             107\n",
      "196     197   before             105\n",
      "197     198   before             107\n",
      "198     199    after             110\n",
      "199     200   before             110\n",
      "\n",
      "[200 rows x 3 columns]\n"
     ]
    }
   ],
   "source": [
    "# 데이터 불러오기\n",
    "paired_test_data = pd.read_csv(\"blood_pressure_data.csv\")\n",
    "print(paired_test_data)"
   ]
  },
  {
   "cell_type": "markdown",
   "metadata": {},
   "source": [
    "* 귀무가설 : 약을 먹기 전과 후의 혈압이 변하지 않는다.(일반적 사실)\n",
    "* 대립가설 : 약을 먹기 전과 후의 혈압이 변한다.(새로운 사실)"
   ]
  },
  {
   "cell_type": "code",
   "execution_count": 32,
   "metadata": {
    "ExecuteTime": {
     "end_time": "2024-02-08T13:10:53.128863Z",
     "start_time": "2024-02-08T13:10:53.113324Z"
    }
   },
   "outputs": [
    {
     "data": {
      "text/plain": [
       "array([ 10, -18,   9, -12, -41,  16,   5,   2,   1,   8,   4,  -9,  -1,\n",
       "        32,   9, -24,   0,   2,  18,   7,   6,  10,  -2,   4,  10,  -2,\n",
       "         6,   4,   5,  14, -15,   2,  27,   6, -11,   9,  25,   9,   3,\n",
       "       -11,  10,  16,  21,  -2,  21,   2, -22,  -3,  10,  22, -15,  -2,\n",
       "         7,  -6,   1,  -8,  12,  -2,  35, -18,   3,  21,  16,  10,   6,\n",
       "        -5,   4,  -8,  -7,  11,  14, -23,  -4,  18,  -5,   8,  -9,  -3,\n",
       "        10, -13,   8,  10, -12,  21,  13,   9,  31,  15,   0, -11,  -6,\n",
       "         6,  12,  14,  -5,  -3,  14,   2,  12,   0], dtype=int64)"
      ]
     },
     "execution_count": 32,
     "metadata": {},
     "output_type": "execute_result"
    }
   ],
   "source": [
    "# 약을 먹기 전과 후 데이터\n",
    "before = paired_test_data.query('Medicine == \"before\"')[\"Blood Pressure\"]\n",
    "after = paired_test_data.query('Medicine == \"after\"')[\"Blood Pressure\"]\n",
    "\n",
    "# 넘파이 배열로 변환\n",
    "before = np.array(before)\n",
    "after = np.array(after)\n",
    "\n",
    "# 약을 먹기 전후 혈압 차이\n",
    "diff = after - before\n",
    "diff"
   ]
  },
  {
   "cell_type": "code",
   "execution_count": 33,
   "metadata": {
    "ExecuteTime": {
     "end_time": "2024-02-08T13:10:56.410108Z",
     "start_time": "2024-02-08T13:10:56.398860Z"
    }
   },
   "outputs": [
    {
     "data": {
      "text/plain": [
       "TtestResult(statistic=2.896269420315302, pvalue=0.004647889345834385, df=99)"
      ]
     },
     "execution_count": 33,
     "metadata": {},
     "output_type": "execute_result"
    }
   ],
   "source": [
    "# 차이값이 0과 같은지 다른지 1집단 t 검정으로 실행\n",
    "# 차이가 0과 같다면 약을 먹기 전후 차이가 없다(약효가 없다)는 말입니다.\n",
    "stats.ttest_1samp(diff, 0)"
   ]
  },
  {
   "cell_type": "markdown",
   "metadata": {
    "ExecuteTime": {
     "end_time": "2022-12-30T05:22:09.347422Z",
     "start_time": "2022-12-30T05:22:09.336565Z"
    }
   },
   "source": [
    "t값은 2.89 이 나왔고, p값은 0.004 <0.05 가 나왔습니다.\n",
    "귀무가설(혈압이 변하지 않는다)의 일반적인 사실을 기각하고, 약효가 있다는 결과가 나왔네요"
   ]
  },
  {
   "cell_type": "code",
   "execution_count": 35,
   "metadata": {
    "ExecuteTime": {
     "end_time": "2024-02-08T13:12:17.674960Z",
     "start_time": "2024-02-08T13:12:17.668262Z"
    }
   },
   "outputs": [
    {
     "data": {
      "text/plain": [
       "TtestResult(statistic=2.896269420315302, pvalue=0.004647889345834385, df=99)"
      ]
     },
     "execution_count": 35,
     "metadata": {},
     "output_type": "execute_result"
    }
   ],
   "source": [
    "# 이제 2 집단 t검정으로 해보겠습니다.\n",
    "stats.ttest_rel(after, before)"
   ]
  },
  {
   "cell_type": "markdown",
   "metadata": {},
   "source": [
    "결과는 차이가 0으로 나타낸 1집단 t검정과 결과가 동일합니다."
   ]
  },
  {
   "cell_type": "markdown",
   "metadata": {
    "ExecuteTime": {
     "end_time": "2022-12-30T05:31:53.947604Z",
     "start_time": "2022-12-30T05:31:53.940205Z"
    }
   },
   "source": [
    "귀무가설 : 약을 먹기 전과 후의 혈압이 변하지 않는다.(일반적 사실) 을 기각하고  \n",
    "대립가설 : 약을 먹기 전과 후의 혈압이 변한다.(새로운 사실) 을 채택합니다.\n",
    "    \n",
    "쉽게 말해 약은 효과가 있습니다"
   ]
  },
  {
   "cell_type": "markdown",
   "metadata": {},
   "source": [
    "### 독립표본 t 검정(서로 다른 두 집단 검증)"
   ]
  },
  {
   "cell_type": "markdown",
   "metadata": {},
   "source": [
    "두 집단은 평균의 차이가 있나?"
   ]
  },
  {
   "cell_type": "markdown",
   "metadata": {
    "ExecuteTime": {
     "end_time": "2022-12-30T05:47:59.813794Z",
     "start_time": "2022-12-30T05:47:59.805790Z"
    }
   },
   "source": [
    "[수학기호를 LaTeX (라텍스)로 변환해주는 사이트](http://www.hostmath.com/)"
   ]
  },
  {
   "cell_type": "markdown",
   "metadata": {},
   "source": [
    "$t = \\frac{\\overline{X_{a}} - \\overline{X_{b}}}{\\frac{{S_{a}}}{\\sqrt{n_{a}}}+{\\frac{{S_{b}}}{\\sqrt{n_{b}}}}}$"
   ]
  },
  {
   "cell_type": "code",
   "execution_count": 36,
   "metadata": {
    "ExecuteTime": {
     "end_time": "2024-02-08T13:12:19.863253Z",
     "start_time": "2024-02-08T13:12:19.857368Z"
    }
   },
   "outputs": [],
   "source": [
    "# 평균 계산\n",
    "mean_bef = np.mean(before)\n",
    "mean_aft = np.mean(after)"
   ]
  },
  {
   "cell_type": "code",
   "execution_count": 37,
   "metadata": {
    "ExecuteTime": {
     "end_time": "2024-02-08T13:12:20.432465Z",
     "start_time": "2024-02-08T13:12:20.427297Z"
    }
   },
   "outputs": [],
   "source": [
    "# 분산 계산\n",
    "# 거듭 말하지만 ddof는 자유도. ddof =0은 샘플수로 나눠주는 것. ddof=1은 샘플수-1 로 나눠주는 것\n",
    "sigma_bef = np.var(before, ddof = 1)\n",
    "sigma_aft = np.var(after, ddof = 1)"
   ]
  },
  {
   "cell_type": "markdown",
   "metadata": {},
   "source": [
    "### ddof 란?\n",
    "ddof인수란 표본표준편차 계산에 사용되는 분모인 n-ddof 값을 말합니다.  \n",
    "이는 자유도 라고 하며 모표준편차와 표본 표준편차에서 반드시 발생하는 괴리율을 줄이기 위해 사용됩니다.\n",
    "\n",
    "numpy.std의 ddof 는 n에서 몇을 뺀 값으로 나눌 것인가를 의미한다 (기본값 = 0, ddof =1은 (n-1)로 나눌 것을 의미함"
   ]
  },
  {
   "cell_type": "code",
   "execution_count": 38,
   "metadata": {
    "ExecuteTime": {
     "end_time": "2024-02-08T13:12:22.565157Z",
     "start_time": "2024-02-08T13:12:22.558051Z"
    }
   },
   "outputs": [
    {
     "data": {
      "text/plain": [
       "2.8023513133183866"
      ]
     },
     "execution_count": 38,
     "metadata": {},
     "output_type": "execute_result"
    }
   ],
   "source": [
    "# 샘플 수\n",
    "n_a = len(before)\n",
    "n_b = len(after)\n",
    "\n",
    "# t값\n",
    "t_value = (mean_aft - mean_bef) / \\\n",
    "    np.sqrt((sigma_bef/n_a + sigma_aft/n_b))\n",
    "t_value"
   ]
  },
  {
   "cell_type": "code",
   "execution_count": 39,
   "metadata": {
    "ExecuteTime": {
     "end_time": "2024-02-08T13:12:23.253451Z",
     "start_time": "2024-02-08T13:12:23.247508Z"
    }
   },
   "outputs": [],
   "source": [
    "# 독립표본 t검정은 t test independent 함수로 간단히 계산 가능."
   ]
  },
  {
   "cell_type": "code",
   "execution_count": 40,
   "metadata": {
    "ExecuteTime": {
     "end_time": "2024-02-08T13:12:25.580157Z",
     "start_time": "2024-02-08T13:12:25.573049Z"
    }
   },
   "outputs": [
    {
     "data": {
      "text/plain": [
       "Ttest_indResult(statistic=2.8023513133183866, pvalue=0.005578408996322435)"
      ]
     },
     "execution_count": 40,
     "metadata": {},
     "output_type": "execute_result"
    }
   ],
   "source": [
    "stats.ttest_ind(after, before, equal_var = False)"
   ]
  },
  {
   "cell_type": "markdown",
   "metadata": {
    "collapsed": true
   },
   "source": [
    "p값이 0.01<0.05 이라는 것은 두 집단간의 평균 차이가 유의미하다는 것을 의미.  \n",
    "같은 데이터라고 하더라도 검정방법이 달라지면, p값도 달라집니다.  \n",
    "거듭말하지만 p값이 더 작다고 해서 더 차이가 크다고 말할 수 있지는 않습니다.  "
   ]
  },
  {
   "cell_type": "markdown",
   "metadata": {
    "ExecuteTime": {
     "end_time": "2022-12-30T06:08:07.901854Z",
     "start_time": "2022-12-30T06:08:07.892857Z"
    }
   },
   "source": [
    "#  equal_var = False 인자값\n",
    "t검정을 하기에 앞서 등분산성을 검정해야 하는데,  \n",
    "equal_var = False 인자값은 분산이 다르다고 가정하고 welch 검정을 사용하겠다는 의미입니다."
   ]
  },
  {
   "cell_type": "code",
   "execution_count": 41,
   "metadata": {
    "ExecuteTime": {
     "end_time": "2024-02-08T13:12:38.847142Z",
     "start_time": "2024-02-08T13:12:38.832723Z"
    }
   },
   "outputs": [],
   "source": [
    "# 아래는 데이터를 생성하는 코드입니다."
   ]
  },
  {
   "cell_type": "code",
   "execution_count": 28,
   "metadata": {
    "ExecuteTime": {
     "end_time": "2024-02-08T13:10:35.188129Z",
     "start_time": "2024-02-08T13:10:35.172679Z"
    }
   },
   "outputs": [
    {
     "name": "stdout",
     "output_type": "stream",
     "text": [
      "CSV 파일이 성공적으로 저장되었습니다.\n",
      "\n",
      "T-Statistic: 2.802351313318386\n",
      "P-Value: 0.00557720482176704\n"
     ]
    }
   ],
   "source": [
    "import numpy as np\n",
    "from scipy.stats import ttest_ind\n",
    "import csv\n",
    "\n",
    "# 난수 시드 설정\n",
    "np.random.seed(42)\n",
    "\n",
    "# 데이터 생성\n",
    "n = 100  # 샘플 수\n",
    "mean_control = 120  # 먹지 않은 집단의 평균 혈압\n",
    "std_control = 10  # 먹지 않은 집단의 표준 편차\n",
    "mean_treatment = 115  # 먹은 집단의 평균 혈압\n",
    "std_treatment = 10  # 먹은 집단의 표준 편차\n",
    "\n",
    "# 각 집단의 혈압 데이터 생성 (정수로 변환하여 저장)\n",
    "control_group = np.round(np.random.normal(mean_control, std_control, n)).astype(int)\n",
    "treatment_group = np.round(np.random.normal(mean_treatment, std_treatment, n)).astype(int)\n",
    "\n",
    "# t-검정 수행\n",
    "t_statistic, p_value = ttest_ind(control_group, treatment_group)\n",
    "\n",
    "# p 값이 0.05 이하가 될 때까지 반복\n",
    "while p_value > 0.05:\n",
    "    control_group = np.round(np.random.normal(mean_control, std_control, n)).astype(int)\n",
    "    treatment_group = np.round(np.random.normal(mean_treatment, std_treatment, n)).astype(int)\n",
    "    t_statistic, p_value = ttest_ind(control_group, treatment_group)\n",
    "\n",
    "# 각 집단의 약 복용 여부 변수 생성\n",
    "medicine = np.array(['after'] * n + ['before'] * n)\n",
    "\n",
    "# 각 집단의 혈압 데이터를 합침\n",
    "blood_pressure = np.concatenate([control_group, treatment_group])\n",
    "\n",
    "# 데이터를 섞음\n",
    "indices = np.arange(2*n)\n",
    "np.random.shuffle(indices)\n",
    "medicine = medicine[indices]\n",
    "blood_pressure = blood_pressure[indices]\n",
    "\n",
    "# 데이터를 CSV 파일에 쓰기\n",
    "with open('blood_pressure_data.csv', 'w', newline='') as csvfile:\n",
    "    writer = csv.writer(csvfile)\n",
    "    writer.writerow([\"Person\", \"Medicine\", \"Blood Pressure\"])\n",
    "    for i in range(2*n):\n",
    "        writer.writerow([i+1, medicine[i], blood_pressure[i]])\n",
    "\n",
    "# 결과 출력\n",
    "print(\"CSV 파일이 성공적으로 저장되었습니다.\")\n",
    "\n",
    "# t-검정 결과 출력\n",
    "print(\"\\nT-Statistic:\", t_statistic)\n",
    "print(\"P-Value:\", p_value)\n"
   ]
  }
 ],
 "metadata": {
  "kernelspec": {
   "display_name": "Python 3",
   "language": "python",
   "name": "python3"
  },
  "language_info": {
   "codemirror_mode": {
    "name": "ipython",
    "version": 3
   },
   "file_extension": ".py",
   "mimetype": "text/x-python",
   "name": "python",
   "nbconvert_exporter": "python",
   "pygments_lexer": "ipython3",
   "version": "3.8.5"
  },
  "latex_envs": {
   "LaTeX_envs_menu_present": true,
   "autoclose": false,
   "autocomplete": true,
   "bibliofile": "biblio.bib",
   "cite_by": "apalike",
   "current_citInitial": 1,
   "eqLabelWithNumbers": true,
   "eqNumInitial": 1,
   "hotkeys": {
    "equation": "Ctrl-E",
    "itemize": "Ctrl-I"
   },
   "labels_anchors": false,
   "latex_user_defs": false,
   "report_style_numbering": false,
   "user_envs_cfg": false
  }
 },
 "nbformat": 4,
 "nbformat_minor": 2
}
